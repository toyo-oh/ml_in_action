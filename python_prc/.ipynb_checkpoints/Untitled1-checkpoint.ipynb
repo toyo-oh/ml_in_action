{
 "cells": [
  {
   "cell_type": "code",
   "execution_count": 1,
   "metadata": {},
   "outputs": [],
   "source": [
    "from MyQR import myqr\n",
    "import os"
   ]
  },
  {
   "cell_type": "code",
   "execution_count": 4,
   "metadata": {},
   "outputs": [
    {
     "data": {
      "text/plain": [
       "'/Users/wangfeng/ML/ml_in_action/python_prc'"
      ]
     },
     "execution_count": 4,
     "metadata": {},
     "output_type": "execute_result"
    }
   ],
   "source": [
    "os.getcwd()   "
   ]
  },
  {
   "cell_type": "code",
   "execution_count": 13,
   "metadata": {
    "scrolled": true
   },
   "outputs": [
    {
     "name": "stdout",
     "output_type": "stream",
     "text": [
      "line 16: mode: byte\n"
     ]
    }
   ],
   "source": [
    "version, level, qr_name = myqr.run(\n",
    "    words=\"https://www.google.com\",          # 可以是字符串，也可以是网址(前面要加http(s)://)\n",
    "    version=1,                              # 设置容错率为最高\n",
    "    level='H',                              # 控制纠错水平，范围是L、M、Q、H，从左到右依次升高\n",
    "    picture=\"f36b-ipzreiw1620547.gif\",                           # 将二维码和图片合成\n",
    "    colorized=True,                         # 彩色二维码\n",
    "    contrast=1.0,                           #用以调节图片的对比度，1.0 表示原始图片，更小的值表示更低对比度，更大反之。默认为1.0\n",
    "    brightness=1.0,                         #用来调节图片的亮度，其余用法和取值同上\n",
    "    save_name=\"1.gif\",                     # 保存文件的名字，格式可以是jpg,png,bmp,gif\n",
    "    save_dir=os.getcwd()                    #控制位置\n",
    ")"
   ]
  }
 ],
 "metadata": {
  "kernelspec": {
   "display_name": "Python [conda env:root] *",
   "language": "python",
   "name": "conda-root-py"
  },
  "language_info": {
   "codemirror_mode": {
    "name": "ipython",
    "version": 3
   },
   "file_extension": ".py",
   "mimetype": "text/x-python",
   "name": "python",
   "nbconvert_exporter": "python",
   "pygments_lexer": "ipython3",
   "version": "3.6.9"
  }
 },
 "nbformat": 4,
 "nbformat_minor": 2
}
