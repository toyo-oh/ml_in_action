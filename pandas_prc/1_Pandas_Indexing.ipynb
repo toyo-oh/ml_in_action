{
 "cells": [
  {
   "cell_type": "markdown",
   "metadata": {},
   "source": [
    "##### 选择列 #####\n",
    "\n",
    "API<br/>\n",
    "EN：https://pandas.pydata.org/pandas-docs/stable/user_guide/indexing.html#indexing <br/>\n",
    "CN：https://www.pypandas.cn/docs/user_guide/indexing.html#%E5%9F%BA%E7%A1%80%E7%9F%A5%E8%AF%86\n",
    "\n",
    "The Python and NumPy indexing operators [] and attribute operator . provide quick and easy access to pandas data structures across a wide range of use cases. \n",
    "\n",
    "data['w']  # indexing operators [] ,  返回Series类型\n",
    "\n",
    "data.w      # indexing attribute operator .  ,Attribute access,返回Series类型\n",
    "             #如果DataFrame列标签是有效的Python变量名称，则可以像属性一样访问该列\n",
    "\n",
    "data[['w']]  #返回DataFrame类型\n",
    "\n",
    "data[['w','z']]  #返回DataFrame类型\n",
    "\n",
    "data.loc['w'] "
   ]
  },
  {
   "cell_type": "markdown",
   "metadata": {},
   "source": [
    "##### 选择行 #####\n",
    "data[0:2]  #返回第1行到第2行的所有行，前闭后开，包括前不包括后\n",
    "\n",
    "data[1:2]  #返回第2行，从0计，返回的是单行，通过有前后值的索引形式， #如果采用data[1]则报错\n",
    "\n",
    "data.ix[1:2] #返回第2行的第三种方法，返回的是DataFrame，跟data[1:2]同\n",
    "\n",
    "data['a':'b']  #利用index值进行切片，返回的是**前闭后闭**的DataFrame, #即末端是包含的  \n",
    "data.irow(0)   #取data的第一行\n",
    "data.icol(0)   #取data的第一列\n",
    "\n",
    "data.head()  #返回data的前几行数据，默认为前五行，需要前十行则data.head(10)\n",
    "data.tail()  #返回data的后几行数据，默认为后五行，需要后十行则data.tail(10)\n",
    "\n",
    "ser.iget_value(0)  #选取ser序列中的第一个\n",
    "ser.iget_value(-1) #选取ser序列中的最后一个，这种轴索引包含索引器的series不能采用ser[-1]去获取最后一个，这会引起歧义。\n",
    "\n",
    "data.iloc[-1]   #选取DataFrame最后一行，返回的是Series\n",
    "data.iloc[-1:]   #选取DataFrame最后一行，返回的是DataFrame\n",
    "\n",
    "data.loc['a',['w','x']]   #返回‘a’行'w'、'x'列，这种用于选取行索引列索引已知\n",
    "\n",
    "data.iat[1, 1]   #选取第二行第二列，用于已知行、列位置的选取。"
   ]
  },
  {
   "cell_type": "code",
   "execution_count": null,
   "metadata": {},
   "outputs": [],
   "source": []
  }
 ],
 "metadata": {
  "kernelspec": {
   "display_name": "Python [conda env:root] *",
   "language": "python",
   "name": "conda-root-py"
  },
  "language_info": {
   "codemirror_mode": {
    "name": "ipython",
    "version": 3
   },
   "file_extension": ".py",
   "mimetype": "text/x-python",
   "name": "python",
   "nbconvert_exporter": "python",
   "pygments_lexer": "ipython3",
   "version": "3.6.9"
  }
 },
 "nbformat": 4,
 "nbformat_minor": 2
}
