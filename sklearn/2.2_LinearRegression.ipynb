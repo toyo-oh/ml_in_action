{
 "cells": [
  {
   "cell_type": "markdown",
   "metadata": {},
   "source": [
    "#### 回帰問題/線形モデル ####"
   ]
  },
  {
   "cell_type": "markdown",
   "metadata": {},
   "source": [
    "##### L1正则化／L2正则化  <br>\n",
    "参考链接：https://blog.csdn.net/jinping_shi/article/details/52433975\n",
    "\n",
    "1. 定义 <br>\n",
    "一般的损失函数后面会添加一个额外项，常用的额外项一般有两种， L1正则化 和 L2正则化，或者 L1范数 和 L2范数<br>\n",
    "L1正则化和L2正则化可以看做是损失函数的惩罚项， 所谓『惩罚』是指对损失函数中的某些参数做一些限制<br>\n",
    "对于线性回归模型，使用L1正则化的模型建叫做Lasso回归，使用L2正则化的模型叫做Ridge回归（岭回归）<br>\n",
    "<br>\n",
    "2. 表达式<br>\n",
    "一般回归分析中，w表示特征的系数，从上式可以看到正则化项是对系数做了处理（限制）。在正则化项之前添加一个系数α，这个系数需要用户指定：<br>\n",
    "L1正则化是指权值向量w中各个元素的绝对值之和，  ||w||\t， α||w|| ->L1正则化项 <br>\n",
    "L2正则化是指权值向量w中各个元素的平方和然后再求平方根， $w^{2}$ ， $αw^{2}$  ->L2正则化项 <br>\n",
    "\n",
    "3. 不同作用<br>\n",
    "L1正则化和L2正则化的作用：<br>\n",
    "L1正则化可以产生稀疏权值矩阵，即产生一个稀疏模型，可以用于特征选择<br>\n",
    "L2正则化可以防止模型过拟合（overfitting）,一定程度上，L1也可以防止过拟合<br>"
   ]
  },
  {
   "cell_type": "code",
   "execution_count": 1,
   "metadata": {},
   "outputs": [],
   "source": [
    "import mglearn\n",
    "import matplotlib.pyplot as plt"
   ]
  },
  {
   "cell_type": "code",
   "execution_count": 2,
   "metadata": {},
   "outputs": [
    {
     "name": "stdout",
     "output_type": "stream",
     "text": [
      "w[0]: 0.393906  b: -0.031804\n"
     ]
    },
    {
     "data": {
      "image/png": "[encoded data removed]",
      "text/plain": [
       "<Figure size 576x576 with 1 Axes>"
      ]
     },
     "metadata": {},
     "output_type": "display_data"
    }
   ],
   "source": [
    "mglearn.plots.plot_linear_regression_wave()"
   ]
  },
  {
   "cell_type": "code",
   "execution_count": 3,
   "metadata": {},
   "outputs": [
    {
     "name": "stdout",
     "output_type": "stream",
     "text": [
      "lr.coef_:[ 0.39390555]\n",
      "lr.intercept_:-0.031804343026759746\n",
      "Training set score:0.67\n",
      "Testing set score:0.66\n"
     ]
    }
   ],
   "source": [
    "#最小二乗法 ordinary least squares:OLS\n",
    "from sklearn.linear_model import LinearRegression\n",
    "from sklearn.model_selection import train_test_split\n",
    "X, y= mglearn.datasets.make_wave(n_samples=60)\n",
    "X_train, X_test, y_train, y_test = train_test_split(X,y,random_state=42)\n",
    "\n",
    "#適合不足\n",
    "lr = LinearRegression().fit(X_train,y_train)\n",
    "#lr.coef_ -> 重み（係数けいすう）\n",
    "print(\"lr.coef_:{}\".format(lr.coef_))\n",
    "#lr.intercept_ ->　切片（オフセット）\n",
    "print(\"lr.intercept_:{}\".format(lr.intercept_))\n",
    "\n",
    "print(\"Training set score:{:.2f}\".format(lr.score(X_train,y_train)))\n",
    "print(\"Testing set score:{:.2f}\".format(lr.score(X_test,y_test)))"
   ]
  },
  {
   "cell_type": "code",
   "execution_count": 4,
   "metadata": {},
   "outputs": [
    {
     "name": "stdout",
     "output_type": "stream",
     "text": [
      "Training set score:0.95\n",
      "Testing set score:0.61\n"
     ]
    }
   ],
   "source": [
    "X,y = mglearn.datasets.load_extended_boston()\n",
    "X_train, X_test, y_train, y_test = train_test_split(X,y,random_state=0)\n",
    "lr=LinearRegression().fit(X_train,y_train)\n",
    "\n",
    "#過剰適合\n",
    "print(\"Training set score:{:.2f}\".format(lr.score(X_train,y_train)))\n",
    "print(\"Testing set score:{:.2f}\".format(lr.score(X_test,y_test)))\n"
   ]
  },
  {
   "cell_type": "code",
   "execution_count": 5,
   "metadata": {},
   "outputs": [
    {
     "name": "stdout",
     "output_type": "stream",
     "text": [
      "Training set score:0.89\n",
      "Testing set score:0.75\n"
     ]
    }
   ],
   "source": [
    "#リッジ回帰　Ridge -> L２\n",
    "from sklearn.linear_model import Ridge\n",
    "#default　-> alpha=1.0\n",
    "ridge = Ridge().fit(X_train,y_train)\n",
    "\n",
    "print(\"Training set score:{:.2f}\".format(ridge.score(X_train,y_train)))\n",
    "print(\"Testing set score:{:.2f}\".format(ridge.score(X_test,y_test)))"
   ]
  },
  {
   "cell_type": "code",
   "execution_count": 6,
   "metadata": {},
   "outputs": [
    {
     "name": "stdout",
     "output_type": "stream",
     "text": [
      "Training set score:0.79\n",
      "Testing set score:0.64\n"
     ]
    }
   ],
   "source": [
    "alpha=10\n",
    "ridge10 = Ridge(alpha=10).fit(X_train,y_train)\n",
    "\n",
    "print(\"Training set score:{:.2f}\".format(ridge10.score(X_train,y_train)))\n",
    "print(\"Testing set score:{:.2f}\".format(ridge10.score(X_test,y_test)))"
   ]
  },
  {
   "cell_type": "code",
   "execution_count": 7,
   "metadata": {},
   "outputs": [
    {
     "name": "stdout",
     "output_type": "stream",
     "text": [
      "Training set score:0.93\n",
      "Testing set score:0.77\n"
     ]
    }
   ],
   "source": [
    "alpha=0.1\n",
    "ridge01 = Ridge(alpha=0.1).fit(X_train,y_train)\n",
    "\n",
    "print(\"Training set score:{:.2f}\".format(ridge01.score(X_train,y_train)))\n",
    "print(\"Testing set score:{:.2f}\".format(ridge01.score(X_test,y_test)))"
   ]
  },
  {
   "cell_type": "code",
   "execution_count": 8,
   "metadata": {},
   "outputs": [
    {
     "name": "stdout",
     "output_type": "stream",
     "text": [
      "Training set score:0.29\n",
      "Testing set score:0.21\n",
      "Number of features used:4\n"
     ]
    }
   ],
   "source": [
    "#Lasso -> L1\n",
    "from sklearn.linear_model import Lasso\n",
    "import numpy as np\n",
    "\n",
    "lasso = Lasso().fit(X_train,y_train)\n",
    "print(\"Training set score:{:.2f}\".format(lasso.score(X_train,y_train)))\n",
    "print(\"Testing set score:{:.2f}\".format(lasso.score(X_test,y_test)))\n",
    "#不为0的特征x系数的个数，即用到了几个特征\n",
    "print(\"Number of features used:{}\".format(np.sum(lasso.coef_!=0)))"
   ]
  },
  {
   "cell_type": "code",
   "execution_count": 9,
   "metadata": {},
   "outputs": [
    {
     "name": "stdout",
     "output_type": "stream",
     "text": [
      "Training set score:0.90\n",
      "Testing set score:0.77\n",
      "Number of features used:33\n"
     ]
    }
   ],
   "source": [
    "lasso001 = Lasso(alpha=0.01, max_iter=100000).fit(X_train, y_train)\n",
    "print(\"Training set score:{:.2f}\".format(lasso001.score(X_train,y_train)))\n",
    "print(\"Testing set score:{:.2f}\".format(lasso001.score(X_test,y_test)))\n",
    "#不为0的特征x系数的个数，即用到了几个特征\n",
    "print(\"Number of features used:{}\".format(np.sum(lasso001.coef_!=0)))"
   ]
  },
  {
   "cell_type": "code",
   "execution_count": 10,
   "metadata": {},
   "outputs": [
    {
     "name": "stdout",
     "output_type": "stream",
     "text": [
      "Training set score:0.95\n",
      "Testing set score:0.64\n",
      "Number of features used:94\n"
     ]
    }
   ],
   "source": [
    "lasso00001 = Lasso(alpha=0.0001, max_iter=100000).fit(X_train, y_train)\n",
    "print(\"Training set score:{:.2f}\".format(lasso00001.score(X_train,y_train)))\n",
    "print(\"Testing set score:{:.2f}\".format(lasso00001.score(X_test,y_test)))\n",
    "#不为0的特征x系数的个数，即用到了几个特征\n",
    "print(\"Number of features used:{}\".format(np.sum(lasso00001.coef_!=0)))"
   ]
  },
  {
   "cell_type": "code",
   "execution_count": 11,
   "metadata": {
    "scrolled": false
   },
   "outputs": [
    {
     "data": {
      "text/plain": [
       "Text(0,0.5,'Coefficient magnitude')"
      ]
     },
     "execution_count": 11,
     "metadata": {},
     "output_type": "execute_result"
    },
    {
     "data": {
      "image/png": "[encoded data removed]",
      "text/plain": [
       "<Figure size 432x288 with 1 Axes>"
      ]
     },
     "metadata": {},
     "output_type": "display_data"
    }
   ],
   "source": [
    "plt.plot(lasso.coef_, 's', label=\"Lasso alpha=1\")\n",
    "plt.plot(lasso001.coef_, '^', label=\"Lasso alpha=0.01\")\n",
    "plt.plot(lasso00001.coef_, 'v', label=\"Lasso alpha=0.0001\")\n",
    "\n",
    "plt.plot(ridge01.coef_, 'o', label=\"Ridge alpha=0.1\")\n",
    "plt.legend(ncol=2, loc=(0,1.05))\n",
    "plt.ylim(-25,25)\n",
    "plt.xlabel(\"Coefficient index\")\n",
    "plt.ylabel(\"Coefficient magnitude\")"
   ]
  }
 ],
 "metadata": {
  "kernelspec": {
   "display_name": "Python [conda env:anaconda3]",
   "language": "python",
   "name": "conda-env-anaconda3-py"
  },
  "language_info": {
   "codemirror_mode": {
    "name": "ipython",
    "version": 3
   },
   "file_extension": ".py",
   "mimetype": "text/x-python",
   "name": "python",
   "nbconvert_exporter": "python",
   "pygments_lexer": "ipython3",
   "version": "3.6.5"
  }
 },
 "nbformat": 4,
 "nbformat_minor": 2
}
