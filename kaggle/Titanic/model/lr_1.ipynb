{
 "cells": [
  {
   "cell_type": "code",
   "execution_count": 1,
   "metadata": {},
   "outputs": [
    {
     "name": "stderr",
     "output_type": "stream",
     "text": [
      "/anaconda3/lib/python3.6/site-packages/sklearn/cross_validation.py:41: DeprecationWarning: This module was deprecated in version 0.18 in favor of the model_selection module into which all the refactored classes and functions are moved. Also note that the interface of the new CV iterators are different from that of this module. This module will be removed in 0.20.\n",
      "  \"This module will be removed in 0.20.\", DeprecationWarning)\n"
     ]
    }
   ],
   "source": [
    "import pandas as pd\n",
    "import numpy as np\n",
    "%matplotlib inline\n",
    "\n",
    "from sklearn.cross_validation import cross_val_score\n",
    "from sklearn.cross_validation import train_test_split\n",
    "from sklearn.preprocessing import LabelEncoder\n",
    "from sklearn.model_selection import learning_curve\n",
    "from sklearn.model_selection import GridSearchCV\n",
    "from sklearn.linear_model import LogisticRegression\n",
    "from xgboost.sklearn import XGBClassifier\n",
    "from sklearn.ensemble.gradient_boosting import GradientBoostingClassifier\n",
    "from sklearn.ensemble import BaggingRegressor\n",
    "from sklearn.ensemble import RandomForestClassifier\n",
    "\n",
    "import matplotlib.pyplot as plt\n",
    "from scipy import stats\n",
    "import seaborn as sns"
   ]
  },
  {
   "cell_type": "markdown",
   "metadata": {},
   "source": [
    "##### 1.Importing a DataFrame #####"
   ]
  },
  {
   "cell_type": "code",
   "execution_count": 2,
   "metadata": {},
   "outputs": [],
   "source": [
    "df_train = pd.read_csv(\"../data/train.csv\")\n",
    "df_test =  pd.read_csv(\"../data/test.csv\")"
   ]
  },
  {
   "cell_type": "code",
   "execution_count": 3,
   "metadata": {
    "scrolled": false
   },
   "outputs": [
    {
     "name": "stdout",
     "output_type": "stream",
     "text": [
      "<class 'pandas.core.frame.DataFrame'>\n",
      "RangeIndex: 891 entries, 0 to 890\n",
      "Data columns (total 12 columns):\n",
      "PassengerId    891 non-null int64\n",
      "Survived       891 non-null int64\n",
      "Pclass         891 non-null int64\n",
      "Name           891 non-null object\n",
      "Sex            891 non-null object\n",
      "Age            714 non-null float64\n",
      "SibSp          891 non-null int64\n",
      "Parch          891 non-null int64\n",
      "Ticket         891 non-null object\n",
      "Fare           891 non-null float64\n",
      "Cabin          204 non-null object\n",
      "Embarked       889 non-null object\n",
      "dtypes: float64(2), int64(5), object(5)\n",
      "memory usage: 83.6+ KB\n"
     ]
    }
   ],
   "source": [
    "df_train.info()"
   ]
  },
  {
   "cell_type": "markdown",
   "metadata": {},
   "source": [
    "##### 2.Visualize the Data #####"
   ]
  },
  {
   "cell_type": "code",
   "execution_count": 4,
   "metadata": {
    "scrolled": true
   },
   "outputs": [
    {
     "data": {
      "text/html": [
       "<div>\n",
       "<style scoped>\n",
       "    .dataframe tbody tr th:only-of-type {\n",
       "        vertical-align: middle;\n",
       "    }\n",
       "\n",
       "    .dataframe tbody tr th {\n",
       "        vertical-align: top;\n",
       "    }\n",
       "\n",
       "    .dataframe thead th {\n",
       "        text-align: right;\n",
       "    }\n",
       "</style>\n",
       "<table border=\"1\" class=\"dataframe\">\n",
       "  <thead>\n",
       "    <tr style=\"text-align: right;\">\n",
       "      <th></th>\n",
       "      <th>PassengerId</th>\n",
       "      <th>Survived</th>\n",
       "      <th>Pclass</th>\n",
       "      <th>Name</th>\n",
       "      <th>Sex</th>\n",
       "      <th>Age</th>\n",
       "      <th>SibSp</th>\n",
       "      <th>Parch</th>\n",
       "      <th>Ticket</th>\n",
       "      <th>Fare</th>\n",
       "      <th>Cabin</th>\n",
       "      <th>Embarked</th>\n",
       "    </tr>\n",
       "  </thead>\n",
       "  <tbody>\n",
       "    <tr>\n",
       "      <th>0</th>\n",
       "      <td>1</td>\n",
       "      <td>0</td>\n",
       "      <td>3</td>\n",
       "      <td>Braund, Mr. Owen Harris</td>\n",
       "      <td>male</td>\n",
       "      <td>22.0</td>\n",
       "      <td>1</td>\n",
       "      <td>0</td>\n",
       "      <td>A/5 21171</td>\n",
       "      <td>7.2500</td>\n",
       "      <td>NaN</td>\n",
       "      <td>S</td>\n",
       "    </tr>\n",
       "    <tr>\n",
       "      <th>1</th>\n",
       "      <td>2</td>\n",
       "      <td>1</td>\n",
       "      <td>1</td>\n",
       "      <td>Cumings, Mrs. John Bradley (Florence Briggs Th...</td>\n",
       "      <td>female</td>\n",
       "      <td>38.0</td>\n",
       "      <td>1</td>\n",
       "      <td>0</td>\n",
       "      <td>PC 17599</td>\n",
       "      <td>71.2833</td>\n",
       "      <td>C85</td>\n",
       "      <td>C</td>\n",
       "    </tr>\n",
       "    <tr>\n",
       "      <th>2</th>\n",
       "      <td>3</td>\n",
       "      <td>1</td>\n",
       "      <td>3</td>\n",
       "      <td>Heikkinen, Miss. Laina</td>\n",
       "      <td>female</td>\n",
       "      <td>26.0</td>\n",
       "      <td>0</td>\n",
       "      <td>0</td>\n",
       "      <td>STON/O2. 3101282</td>\n",
       "      <td>7.9250</td>\n",
       "      <td>NaN</td>\n",
       "      <td>S</td>\n",
       "    </tr>\n",
       "    <tr>\n",
       "      <th>3</th>\n",
       "      <td>4</td>\n",
       "      <td>1</td>\n",
       "      <td>1</td>\n",
       "      <td>Futrelle, Mrs. Jacques Heath (Lily May Peel)</td>\n",
       "      <td>female</td>\n",
       "      <td>35.0</td>\n",
       "      <td>1</td>\n",
       "      <td>0</td>\n",
       "      <td>113803</td>\n",
       "      <td>53.1000</td>\n",
       "      <td>C123</td>\n",
       "      <td>S</td>\n",
       "    </tr>\n",
       "    <tr>\n",
       "      <th>4</th>\n",
       "      <td>5</td>\n",
       "      <td>0</td>\n",
       "      <td>3</td>\n",
       "      <td>Allen, Mr. William Henry</td>\n",
       "      <td>male</td>\n",
       "      <td>35.0</td>\n",
       "      <td>0</td>\n",
       "      <td>0</td>\n",
       "      <td>373450</td>\n",
       "      <td>8.0500</td>\n",
       "      <td>NaN</td>\n",
       "      <td>S</td>\n",
       "    </tr>\n",
       "    <tr>\n",
       "      <th>5</th>\n",
       "      <td>6</td>\n",
       "      <td>0</td>\n",
       "      <td>3</td>\n",
       "      <td>Moran, Mr. James</td>\n",
       "      <td>male</td>\n",
       "      <td>NaN</td>\n",
       "      <td>0</td>\n",
       "      <td>0</td>\n",
       "      <td>330877</td>\n",
       "      <td>8.4583</td>\n",
       "      <td>NaN</td>\n",
       "      <td>Q</td>\n",
       "    </tr>\n",
       "    <tr>\n",
       "      <th>6</th>\n",
       "      <td>7</td>\n",
       "      <td>0</td>\n",
       "      <td>1</td>\n",
       "      <td>McCarthy, Mr. Timothy J</td>\n",
       "      <td>male</td>\n",
       "      <td>54.0</td>\n",
       "      <td>0</td>\n",
       "      <td>0</td>\n",
       "      <td>17463</td>\n",
       "      <td>51.8625</td>\n",
       "      <td>E46</td>\n",
       "      <td>S</td>\n",
       "    </tr>\n",
       "    <tr>\n",
       "      <th>7</th>\n",
       "      <td>8</td>\n",
       "      <td>0</td>\n",
       "      <td>3</td>\n",
       "      <td>Palsson, Master. Gosta Leonard</td>\n",
       "      <td>male</td>\n",
       "      <td>2.0</td>\n",
       "      <td>3</td>\n",
       "      <td>1</td>\n",
       "      <td>349909</td>\n",
       "      <td>21.0750</td>\n",
       "      <td>NaN</td>\n",
       "      <td>S</td>\n",
       "    </tr>\n",
       "    <tr>\n",
       "      <th>8</th>\n",
       "      <td>9</td>\n",
       "      <td>1</td>\n",
       "      <td>3</td>\n",
       "      <td>Johnson, Mrs. Oscar W (Elisabeth Vilhelmina Berg)</td>\n",
       "      <td>female</td>\n",
       "      <td>27.0</td>\n",
       "      <td>0</td>\n",
       "      <td>2</td>\n",
       "      <td>347742</td>\n",
       "      <td>11.1333</td>\n",
       "      <td>NaN</td>\n",
       "      <td>S</td>\n",
       "    </tr>\n",
       "    <tr>\n",
       "      <th>9</th>\n",
       "      <td>10</td>\n",
       "      <td>1</td>\n",
       "      <td>2</td>\n",
       "      <td>Nasser, Mrs. Nicholas (Adele Achem)</td>\n",
       "      <td>female</td>\n",
       "      <td>14.0</td>\n",
       "      <td>1</td>\n",
       "      <td>0</td>\n",
       "      <td>237736</td>\n",
       "      <td>30.0708</td>\n",
       "      <td>NaN</td>\n",
       "      <td>C</td>\n",
       "    </tr>\n",
       "  </tbody>\n",
       "</table>\n",
       "</div>"
      ],
      "text/plain": [
       "   PassengerId  Survived  Pclass  \\\n",
       "0            1         0       3   \n",
       "1            2         1       1   \n",
       "2            3         1       3   \n",
       "3            4         1       1   \n",
       "4            5         0       3   \n",
       "5            6         0       3   \n",
       "6            7         0       1   \n",
       "7            8         0       3   \n",
       "8            9         1       3   \n",
       "9           10         1       2   \n",
       "\n",
       "                                                Name     Sex   Age  SibSp  \\\n",
       "0                            Braund, Mr. Owen Harris    male  22.0      1   \n",
       "1  Cumings, Mrs. John Bradley (Florence Briggs Th...  female  38.0      1   \n",
       "2                             Heikkinen, Miss. Laina  female  26.0      0   \n",
       "3       Futrelle, Mrs. Jacques Heath (Lily May Peel)  female  35.0      1   \n",
       "4                           Allen, Mr. William Henry    male  35.0      0   \n",
       "5                                   Moran, Mr. James    male   NaN      0   \n",
       "6                            McCarthy, Mr. Timothy J    male  54.0      0   \n",
       "7                     Palsson, Master. Gosta Leonard    male   2.0      3   \n",
       "8  Johnson, Mrs. Oscar W (Elisabeth Vilhelmina Berg)  female  27.0      0   \n",
       "9                Nasser, Mrs. Nicholas (Adele Achem)  female  14.0      1   \n",
       "\n",
       "   Parch            Ticket     Fare Cabin Embarked  \n",
       "0      0         A/5 21171   7.2500   NaN        S  \n",
       "1      0          PC 17599  71.2833   C85        C  \n",
       "2      0  STON/O2. 3101282   7.9250   NaN        S  \n",
       "3      0            113803  53.1000  C123        S  \n",
       "4      0            373450   8.0500   NaN        S  \n",
       "5      0            330877   8.4583   NaN        Q  \n",
       "6      0             17463  51.8625   E46        S  \n",
       "7      1            349909  21.0750   NaN        S  \n",
       "8      2            347742  11.1333   NaN        S  \n",
       "9      0            237736  30.0708   NaN        C  "
      ]
     },
     "execution_count": 4,
     "metadata": {},
     "output_type": "execute_result"
    }
   ],
   "source": [
    "df_train.head(10)"
   ]
  },
  {
   "cell_type": "code",
   "execution_count": 5,
   "metadata": {},
   "outputs": [
    {
     "data": {
      "text/html": [
       "<div>\n",
       "<style scoped>\n",
       "    .dataframe tbody tr th:only-of-type {\n",
       "        vertical-align: middle;\n",
       "    }\n",
       "\n",
       "    .dataframe tbody tr th {\n",
       "        vertical-align: top;\n",
       "    }\n",
       "\n",
       "    .dataframe thead th {\n",
       "        text-align: right;\n",
       "    }\n",
       "</style>\n",
       "<table border=\"1\" class=\"dataframe\">\n",
       "  <thead>\n",
       "    <tr style=\"text-align: right;\">\n",
       "      <th></th>\n",
       "      <th>PassengerId</th>\n",
       "      <th>Survived</th>\n",
       "      <th>Pclass</th>\n",
       "      <th>Age</th>\n",
       "      <th>SibSp</th>\n",
       "      <th>Parch</th>\n",
       "      <th>Fare</th>\n",
       "    </tr>\n",
       "  </thead>\n",
       "  <tbody>\n",
       "    <tr>\n",
       "      <th>count</th>\n",
       "      <td>891.000000</td>\n",
       "      <td>891.000000</td>\n",
       "      <td>891.000000</td>\n",
       "      <td>714.000000</td>\n",
       "      <td>891.000000</td>\n",
       "      <td>891.000000</td>\n",
       "      <td>891.000000</td>\n",
       "    </tr>\n",
       "    <tr>\n",
       "      <th>mean</th>\n",
       "      <td>446.000000</td>\n",
       "      <td>0.383838</td>\n",
       "      <td>2.308642</td>\n",
       "      <td>29.699118</td>\n",
       "      <td>0.523008</td>\n",
       "      <td>0.381594</td>\n",
       "      <td>32.204208</td>\n",
       "    </tr>\n",
       "    <tr>\n",
       "      <th>std</th>\n",
       "      <td>257.353842</td>\n",
       "      <td>0.486592</td>\n",
       "      <td>0.836071</td>\n",
       "      <td>14.526497</td>\n",
       "      <td>1.102743</td>\n",
       "      <td>0.806057</td>\n",
       "      <td>49.693429</td>\n",
       "    </tr>\n",
       "    <tr>\n",
       "      <th>min</th>\n",
       "      <td>1.000000</td>\n",
       "      <td>0.000000</td>\n",
       "      <td>1.000000</td>\n",
       "      <td>0.420000</td>\n",
       "      <td>0.000000</td>\n",
       "      <td>0.000000</td>\n",
       "      <td>0.000000</td>\n",
       "    </tr>\n",
       "    <tr>\n",
       "      <th>25%</th>\n",
       "      <td>223.500000</td>\n",
       "      <td>0.000000</td>\n",
       "      <td>2.000000</td>\n",
       "      <td>20.125000</td>\n",
       "      <td>0.000000</td>\n",
       "      <td>0.000000</td>\n",
       "      <td>7.910400</td>\n",
       "    </tr>\n",
       "    <tr>\n",
       "      <th>50%</th>\n",
       "      <td>446.000000</td>\n",
       "      <td>0.000000</td>\n",
       "      <td>3.000000</td>\n",
       "      <td>28.000000</td>\n",
       "      <td>0.000000</td>\n",
       "      <td>0.000000</td>\n",
       "      <td>14.454200</td>\n",
       "    </tr>\n",
       "    <tr>\n",
       "      <th>75%</th>\n",
       "      <td>668.500000</td>\n",
       "      <td>1.000000</td>\n",
       "      <td>3.000000</td>\n",
       "      <td>38.000000</td>\n",
       "      <td>1.000000</td>\n",
       "      <td>0.000000</td>\n",
       "      <td>31.000000</td>\n",
       "    </tr>\n",
       "    <tr>\n",
       "      <th>max</th>\n",
       "      <td>891.000000</td>\n",
       "      <td>1.000000</td>\n",
       "      <td>3.000000</td>\n",
       "      <td>80.000000</td>\n",
       "      <td>8.000000</td>\n",
       "      <td>6.000000</td>\n",
       "      <td>512.329200</td>\n",
       "    </tr>\n",
       "  </tbody>\n",
       "</table>\n",
       "</div>"
      ],
      "text/plain": [
       "       PassengerId    Survived      Pclass         Age       SibSp  \\\n",
       "count   891.000000  891.000000  891.000000  714.000000  891.000000   \n",
       "mean    446.000000    0.383838    2.308642   29.699118    0.523008   \n",
       "std     257.353842    0.486592    0.836071   14.526497    1.102743   \n",
       "min       1.000000    0.000000    1.000000    0.420000    0.000000   \n",
       "25%     223.500000    0.000000    2.000000   20.125000    0.000000   \n",
       "50%     446.000000    0.000000    3.000000   28.000000    0.000000   \n",
       "75%     668.500000    1.000000    3.000000   38.000000    1.000000   \n",
       "max     891.000000    1.000000    3.000000   80.000000    8.000000   \n",
       "\n",
       "            Parch        Fare  \n",
       "count  891.000000  891.000000  \n",
       "mean     0.381594   32.204208  \n",
       "std      0.806057   49.693429  \n",
       "min      0.000000    0.000000  \n",
       "25%      0.000000    7.910400  \n",
       "50%      0.000000   14.454200  \n",
       "75%      0.000000   31.000000  \n",
       "max      6.000000  512.329200  "
      ]
     },
     "execution_count": 5,
     "metadata": {},
     "output_type": "execute_result"
    }
   ],
   "source": [
    "df_train.describe()"
   ]
  },
  {
   "cell_type": "code",
   "execution_count": 6,
   "metadata": {},
   "outputs": [
    {
     "data": {
      "text/plain": [
       "Text(0.5, 0, '')"
      ]
     },
     "execution_count": 6,
     "metadata": {},
     "output_type": "execute_result"
    },
    {
     "data": {
      "image/png": "[encoded data removed]",
      "text/plain": [
       "<Figure size 1440x288 with 4 Axes>"
      ]
     },
     "metadata": {
      "needs_background": "light"
     },
     "output_type": "display_data"
    }
   ],
   "source": [
    "fig1 = plt.figure(figsize=(20,4))\n",
    "\n",
    "#Survived\n",
    "plt.subplot2grid((1,5),(0,0))\n",
    "df_train['Survived'].value_counts().plot(kind=\"bar\")\n",
    "plt.title(\"Survived\")\n",
    "\n",
    "#Pclass\n",
    "plt.subplot2grid((1,5),(0,1))\n",
    "df_train['Pclass'].value_counts().plot(kind=\"bar\")\n",
    "plt.title(\"Pclass\")\n",
    "\n",
    "#Emarked\n",
    "plt.subplot2grid((1,5),(0,2))\n",
    "df_train.Embarked.value_counts().plot(kind='bar')\n",
    "plt.title(\"Embarked\")\n",
    "\n",
    "#Age\n",
    "plt.subplot2grid((1,5),(0,3), colspan=2)\n",
    "df_train.Age.plot(kind=\"kde\")\n",
    "plt.title(\"Age Distribution\")\n",
    "plt.xlabel('')"
   ]
  },
  {
   "cell_type": "code",
   "execution_count": 7,
   "metadata": {},
   "outputs": [
    {
     "name": "stderr",
     "output_type": "stream",
     "text": [
      "/anaconda3/lib/python3.6/site-packages/seaborn/distributions.py:218: MatplotlibDeprecationWarning: \n",
      "The 'normed' kwarg was deprecated in Matplotlib 2.1 and will be removed in 3.1. Use 'density' instead.\n",
      "  color=hist_color, **hist_kws)\n",
      "/anaconda3/lib/python3.6/site-packages/ipykernel_launcher.py:10: UserWarning: Boolean Series key will be reindexed to match DataFrame index.\n",
      "  # Remove the CWD from sys.path while we load stuff.\n",
      "/anaconda3/lib/python3.6/site-packages/ipykernel_launcher.py:11: UserWarning: Boolean Series key will be reindexed to match DataFrame index.\n",
      "  # This is added back by InteractiveShellApp.init_path()\n"
     ]
    },
    {
     "data": {
      "text/plain": [
       "Text(0.5, 0, '')"
      ]
     },
     "execution_count": 7,
     "metadata": {},
     "output_type": "execute_result"
    },
    {
     "data": {
      "image/png": "[encoded data removed]",
      "text/plain": [
       "<Figure size 720x432 with 2 Axes>"
      ]
     },
     "metadata": {
      "needs_background": "light"
     },
     "output_type": "display_data"
    }
   ],
   "source": [
    "#Age&Survived\n",
    "fig2, axes = plt.subplots(2,1,figsize=(10,6))\n",
    "\n",
    "ax0 = axes[0]\n",
    "sns.distplot(df_train[df_train.Age.notnull()].Age, rug=True, ax=axes[0])\n",
    "ax0.set_title('age distribution',size=15)\n",
    "ax0.set_xlabel('')\n",
    "\n",
    "ax1 = axes[1]\n",
    "sns.distplot(df_train[df_train.Survived==1][df_train.Age.notnull()].Age, hist=False, color='g', ax=ax1, label='survived')\n",
    "sns.distplot(df_train[df_train.Survived==0][df_train.Age.notnull()].Age, hist=False, color='r', ax=ax1, label='dead')\n",
    "ax1.set_title('age survived distribution',size=15)\n",
    "ax1.set_xlabel('')"
   ]
  },
  {
   "cell_type": "code",
   "execution_count": 8,
   "metadata": {
    "scrolled": false
   },
   "outputs": [],
   "source": [
    "# survived_age=df_train[df_train.Survived==1].Age\n",
    "# dead_age=df_train[df_train.Survived==0].Age\n",
    "# age_frame=pd.concat([survived_age,dead_age],axis=1)  \n",
    "# age_frame.columns=['survived','dead']  \n",
    "# age_frame.plot(kind='hist',bins=30,alpha=0.3,figsize=(10,6))"
   ]
  },
  {
   "cell_type": "code",
   "execution_count": 9,
   "metadata": {
    "scrolled": false
   },
   "outputs": [
    {
     "data": {
      "text/plain": [
       "<matplotlib.axes._subplots.AxesSubplot at 0x1a1cbbd4e0>"
      ]
     },
     "execution_count": 9,
     "metadata": {},
     "output_type": "execute_result"
    },
    {
     "data": {
      "text/plain": [
       "<Figure size 432x288 with 0 Axes>"
      ]
     },
     "metadata": {},
     "output_type": "display_data"
    },
    {
     "data": {
      "image/png": "[encoded data removed]",
      "text/plain": [
       "<Figure size 432x288 with 1 Axes>"
      ]
     },
     "metadata": {
      "needs_background": "light"
     },
     "output_type": "display_data"
    }
   ],
   "source": [
    "#Pclass&Survived\n",
    "fig3 = plt.figure()\n",
    "survived_0 = df_train.Pclass[df_train.Survived==0].value_counts()\n",
    "survived_1 = df_train.Pclass[df_train.Survived==1].value_counts()\n",
    "df_survived=pd.DataFrame({'survived':survived_1, 'dead':survived_0})\n",
    "df_survived.plot(kind=\"bar\", stacked=True)"
   ]
  },
  {
   "cell_type": "code",
   "execution_count": 10,
   "metadata": {},
   "outputs": [
    {
     "data": {
      "text/plain": [
       "<matplotlib.axes._subplots.AxesSubplot at 0x1a1cc1e358>"
      ]
     },
     "execution_count": 10,
     "metadata": {},
     "output_type": "execute_result"
    },
    {
     "data": {
      "text/plain": [
       "<Figure size 432x288 with 0 Axes>"
      ]
     },
     "metadata": {},
     "output_type": "display_data"
    },
    {
     "data": {
      "image/png": "[encoded data removed]",
      "text/plain": [
       "<Figure size 432x288 with 1 Axes>"
      ]
     },
     "metadata": {
      "needs_background": "light"
     },
     "output_type": "display_data"
    }
   ],
   "source": [
    "#Sex&Survived\n",
    "fig4 = plt.figure()\n",
    "survived_sex_0 = df_train.Sex[df_train.Survived==0].value_counts()\n",
    "survived_sex_1 = df_train.Sex[df_train.Survived==1].value_counts()\n",
    "df_sex_survived=pd.DataFrame({'survived':survived_sex_1, 'dead':survived_sex_0})\n",
    "df_sex_survived.plot(kind=\"bar\", stacked=True)"
   ]
  },
  {
   "cell_type": "code",
   "execution_count": 11,
   "metadata": {},
   "outputs": [
    {
     "data": {
      "image/png": "[encoded data removed]",
      "text/plain": [
       "<Figure size 720x360 with 5 Axes>"
      ]
     },
     "metadata": {
      "needs_background": "light"
     },
     "output_type": "display_data"
    }
   ],
   "source": [
    "fig5=plt.figure(figsize=(10,5))\n",
    "plt.title(\"Pclass&Sex\")\n",
    "\n",
    "ax1=fig5.add_subplot(141)\n",
    "df_train.Survived[df_train.Sex == 'female'][df_train.Pclass != 3].value_counts().plot(kind='bar', label=\"female highclass\", color='#FA2479')\n",
    "# ax1.set_xticklabels(rotation=0)\n",
    "ax1.legend([\"female/p-high\"], loc='best')\n",
    "\n",
    "ax2=fig5.add_subplot(142, sharey=ax1)\n",
    "df_train.Survived[df_train.Sex == 'female'][df_train.Pclass == 3].value_counts().plot(kind='bar', label='female, low class', color='pink')\n",
    "# ax2.set_xticklabels(rotation=0)\n",
    "plt.legend([\"female/p-low\"], loc='best')\n",
    "\n",
    "ax3=fig5.add_subplot(143, sharey=ax1)\n",
    "df_train.Survived[df_train.Sex == 'male'][df_train.Pclass != 3].value_counts().plot(kind='bar', label='male, high class',color='lightblue')\n",
    "# ax3.set_xticklabels(rotation=0)\n",
    "plt.legend([\"male/p-high\"], loc='best')\n",
    "\n",
    "ax4=fig5.add_subplot(144, sharey=ax1)\n",
    "df_train.Survived[df_train.Sex == 'male'][df_train.Pclass == 3].value_counts().plot(kind='bar', label='male low class', color='steelblue')\n",
    "# ax4.set_xticklabels(rotation=0)\n",
    "plt.legend([\"male/p-low\"], loc='best')\n",
    "\n",
    "plt.show()"
   ]
  },
  {
   "cell_type": "code",
   "execution_count": 12,
   "metadata": {},
   "outputs": [
    {
     "data": {
      "text/plain": [
       "0    300\n",
       "1     47\n",
       "Name: Survived, dtype: int64"
      ]
     },
     "execution_count": 12,
     "metadata": {},
     "output_type": "execute_result"
    }
   ],
   "source": [
    "df_train.Survived[df_train.Sex == 'male'][df_train.Pclass == 3].value_counts()"
   ]
  },
  {
   "cell_type": "code",
   "execution_count": 13,
   "metadata": {},
   "outputs": [
    {
     "name": "stderr",
     "output_type": "stream",
     "text": [
      "/anaconda3/lib/python3.6/site-packages/seaborn/distributions.py:218: MatplotlibDeprecationWarning: \n",
      "The 'normed' kwarg was deprecated in Matplotlib 2.1 and will be removed in 3.1. Use 'density' instead.\n",
      "  color=hist_color, **hist_kws)\n"
     ]
    },
    {
     "data": {
      "text/plain": [
       "(0, 200)"
      ]
     },
     "execution_count": 13,
     "metadata": {},
     "output_type": "execute_result"
    },
    {
     "data": {
      "image/png": "[encoded data removed]",
      "text/plain": [
       "<Figure size 576x432 with 2 Axes>"
      ]
     },
     "metadata": {
      "needs_background": "light"
     },
     "output_type": "display_data"
    }
   ],
   "source": [
    "#Fare\n",
    "fig6 = plt.figure(figsize=(8, 6))\n",
    "\n",
    "ax0 = plt.subplot2grid((2,2), (0,0), colspan=2)\n",
    "sns.kdeplot(df_train.Fare, ax=ax0)\n",
    "sns.distplot(df_train.Fare, ax=ax0)\n",
    "ax0.set_title('Fare', size=15)\n",
    "ax0.set_xticks(range(0,250,50))\n",
    "ax0.set_xlim([0, 200])\n",
    "ax0.set_xlabel('')\n",
    "\n",
    "ax1 = plt.subplot2grid((2,2), (1,0), colspan=2)\n",
    "ax1.set_title('Fare&Pclass', size=15)\n",
    "for i in range(1,4):\n",
    "    sns.kdeplot(df_train[df_train.Pclass==i].Fare, ax=ax1, label='Pclass{0}'.format(i))\n",
    "ax1.set_xlim([0,200])"
   ]
  },
  {
   "cell_type": "code",
   "execution_count": 14,
   "metadata": {},
   "outputs": [
    {
     "data": {
      "image/png": "[encoded data removed]",
      "text/plain": [
       "<Figure size 432x288 with 3 Axes>"
      ]
     },
     "metadata": {
      "needs_background": "light"
     },
     "output_type": "display_data"
    }
   ],
   "source": [
    "fig7=plt.figure()\n",
    "plt.title(\"MaleHasCabin\")\n",
    "\n",
    "ax1=fig7.add_subplot(121)\n",
    "df_train.Survived[df_train.Sex == 'male'][df_train.Cabin.notnull()].value_counts().plot(kind='bar', label=\"male cabin n\", color='lightblue')\n",
    "ax1.set_xticklabels([\"1\", \"0\"], rotation=0)\n",
    "ax1.legend([\"male/cabin-Y\"], loc='best')\n",
    "\n",
    "ax2=fig7.add_subplot(122, sharey=ax1)\n",
    "df_train.Survived[df_train.Sex == 'male'][df_train.Cabin.isnull()].value_counts().plot(kind='bar', label='male, cabin y', color='steelblue')\n",
    "ax2.set_xticklabels([\"1\", \"0\"], rotation=0)\n",
    "plt.legend([\"male/cabin-N\"], loc='best')\n",
    "\n",
    "plt.show()"
   ]
  },
  {
   "cell_type": "code",
   "execution_count": 15,
   "metadata": {
    "scrolled": false
   },
   "outputs": [
    {
     "data": {
      "text/plain": [
       "<matplotlib.axes._subplots.AxesSubplot at 0x1a1d40cbe0>"
      ]
     },
     "execution_count": 15,
     "metadata": {},
     "output_type": "execute_result"
    },
    {
     "data": {
      "text/plain": [
       "<Figure size 432x288 with 0 Axes>"
      ]
     },
     "metadata": {},
     "output_type": "display_data"
    },
    {
     "data": {
      "image/png": "[encoded data removed]",
      "text/plain": [
       "<Figure size 432x288 with 1 Axes>"
      ]
     },
     "metadata": {
      "needs_background": "light"
     },
     "output_type": "display_data"
    }
   ],
   "source": [
    "#Embarked&Survived\n",
    "fig8 = plt.figure()\n",
    "\n",
    "survived_embarked_1 = df_train.Embarked[df_train.Survived==1].value_counts()\n",
    "survived_embarked_0 = df_train.Embarked[df_train.Survived==0].value_counts()\n",
    "\n",
    "df_survived_embarked = pd.DataFrame({'survived':survived_embarked_1,'dead':survived_embarked_0})\n",
    "df_survived_embarked.plot(kind=\"bar\",stacked=True)"
   ]
  },
  {
   "cell_type": "code",
   "execution_count": 16,
   "metadata": {},
   "outputs": [
    {
     "data": {
      "text/plain": [
       "<matplotlib.axes._subplots.AxesSubplot at 0x1a1d4541d0>"
      ]
     },
     "execution_count": 16,
     "metadata": {},
     "output_type": "execute_result"
    },
    {
     "data": {
      "text/plain": [
       "<Figure size 432x288 with 0 Axes>"
      ]
     },
     "metadata": {},
     "output_type": "display_data"
    },
    {
     "data": {
      "image/png": "[encoded data removed]",
      "text/plain": [
       "<Figure size 432x288 with 1 Axes>"
      ]
     },
     "metadata": {
      "needs_background": "light"
     },
     "output_type": "display_data"
    }
   ],
   "source": [
    "#SibSp&Survived\n",
    "fig9 = plt.figure()\n",
    "\n",
    "survived_sibsp_1 = df_train[df_train.Survived==1].SibSp.value_counts()\n",
    "survived_sibsp_0 = df_train[df_train.Survived==0].SibSp.value_counts()\n",
    "\n",
    "df_survived_sibSp = pd.DataFrame({'survived':survived_sibsp_1,'dead':survived_sibsp_0})\n",
    "df_survived_sibSp.plot(kind=\"bar\",stacked=True)"
   ]
  },
  {
   "cell_type": "code",
   "execution_count": 17,
   "metadata": {},
   "outputs": [
    {
     "data": {
      "text/plain": [
       "<matplotlib.axes._subplots.AxesSubplot at 0x1a1d7ebcf8>"
      ]
     },
     "execution_count": 17,
     "metadata": {},
     "output_type": "execute_result"
    },
    {
     "data": {
      "text/plain": [
       "<Figure size 432x288 with 0 Axes>"
      ]
     },
     "metadata": {},
     "output_type": "display_data"
    },
    {
     "data": {
      "image/png": "[encoded data removed]",
      "text/plain": [
       "<Figure size 432x288 with 1 Axes>"
      ]
     },
     "metadata": {
      "needs_background": "light"
     },
     "output_type": "display_data"
    }
   ],
   "source": [
    "#Parch&Survived\n",
    "fig10 = plt.figure()\n",
    "\n",
    "survived_parch_1 = df_train[df_train.Survived==1].Parch.value_counts()\n",
    "survived_parch_0 = df_train[df_train.Survived==0].Parch.value_counts()\n",
    "\n",
    "df_survived_parch = pd.DataFrame({'survived':survived_parch_1,'dead':survived_parch_0})\n",
    "df_survived_parch.plot(kind=\"bar\",stacked=True)"
   ]
  },
  {
   "cell_type": "code",
   "execution_count": 18,
   "metadata": {},
   "outputs": [
    {
     "data": {
      "text/plain": [
       "<matplotlib.axes._subplots.AxesSubplot at 0x1a1d895ef0>"
      ]
     },
     "execution_count": 18,
     "metadata": {},
     "output_type": "execute_result"
    },
    {
     "data": {
      "text/plain": [
       "<Figure size 432x288 with 0 Axes>"
      ]
     },
     "metadata": {},
     "output_type": "display_data"
    },
    {
     "data": {
      "image/png": "[encoded data removed]",
      "text/plain": [
       "<Figure size 432x288 with 1 Axes>"
      ]
     },
     "metadata": {
      "needs_background": "light"
     },
     "output_type": "display_data"
    }
   ],
   "source": [
    "#Cabin&Survived\n",
    "fig11 = plt.figure()\n",
    "survived_no_cabin = df_train.Survived[pd.isnull(df_train.Cabin)].value_counts()\n",
    "survived_has_cabin = df_train.Survived[pd.notnull(df_train.Cabin)].value_counts()\n",
    "\n",
    "df_cabin = pd.DataFrame({'no_cabin':survived_no_cabin,'has_cabin':survived_has_cabin})\n",
    "df_cabin_survived = df_cabin.T\n",
    "df_cabin_survived.plot.bar(stacked=True)"
   ]
  },
  {
   "cell_type": "code",
   "execution_count": 19,
   "metadata": {
    "scrolled": true
   },
   "outputs": [
    {
     "data": {
      "text/plain": [
       "<matplotlib.axes._subplots.AxesSubplot at 0x1a1da38f60>"
      ]
     },
     "execution_count": 19,
     "metadata": {},
     "output_type": "execute_result"
    },
    {
     "data": {
      "image/png": "[encoded data removed]",
      "text/plain": [
       "<Figure size 432x288 with 1 Axes>"
      ]
     },
     "metadata": {
      "needs_background": "light"
     },
     "output_type": "display_data"
    }
   ],
   "source": [
    "#NameLen\n",
    "df_train.groupby(df_train.Name.apply(lambda x: len(x)))['Survived'].mean().plot()"
   ]
  },
  {
   "cell_type": "markdown",
   "metadata": {},
   "source": [
    "##### 3.Cleanup and Transform the Data(Feature Engineering) #####"
   ]
  },
  {
   "cell_type": "code",
   "execution_count": 20,
   "metadata": {},
   "outputs": [],
   "source": [
    "#set missing age method\n",
    "from sklearn.ensemble import RandomForestRegressor\n",
    "\n",
    "def set_missing_age(df):\n",
    "    age_df = df[['Age','Fare', 'Parch', 'SibSp', 'Pclass']]\n",
    "    #  df.values　→ Return a Numpy representation of the DataFrame.(version 0.23: to_numpy() is recommended)\n",
    "    #  print(age_df.values)\n",
    "    # df.as_matrix()→ transfer dataframe to numpy(version 0.23.0: Use DataFrame.values() instead.)\n",
    "    known_age = age_df[age_df.Age.notnull()].as_matrix()\n",
    "    unknown_age = age_df[age_df.Age.isnull()].as_matrix()\n",
    "    # y_target（column_1 age）\n",
    "    y = known_age[:, 0]\n",
    "    # X_Features（column_2~N）\n",
    "    X = known_age[:, 1:]\n",
    "    \n",
    "    rfr = RandomForestRegressor(random_state=0, n_estimators=2000, n_jobs=-1)\n",
    "    rfr.fit(X, y)\n",
    "    predictedAges = rfr.predict(unknown_age[:, 1:])\n",
    "    \n",
    "    df.loc[ (df.Age.isnull()), 'Age' ] = predictedAges \n",
    "    \n",
    "    return df,rfr"
   ]
  },
  {
   "cell_type": "code",
   "execution_count": 21,
   "metadata": {},
   "outputs": [],
   "source": [
    "def age_bins(age):\n",
    "    if age<=6:\n",
    "        return \"Child\"\n",
    "    if age>6 and age<= 18:\n",
    "        return \"Youth\"\n",
    "    if age > 18 and age<= 35:\n",
    "        return \"Teenage\"\n",
    "    if age > 35 and age <= 60:\n",
    "        return \"Middle\"\n",
    "    else:\n",
    "        return \"Old\""
   ]
  },
  {
   "cell_type": "code",
   "execution_count": 22,
   "metadata": {},
   "outputs": [],
   "source": [
    "#set missing cabin method-1\n",
    "def set_missing_cabin(df):\n",
    "    df.loc[(df['Cabin'].notnull()), 'Cabin'] = \"Yes\"\n",
    "    df.loc[(df['Cabin'].isnull()), 'Cabin'] = \"No\"\n",
    "    return df"
   ]
  },
  {
   "cell_type": "code",
   "execution_count": 23,
   "metadata": {},
   "outputs": [],
   "source": [
    "#extract prefix of cabin when cabin is not null\n",
    "import math\n",
    "def get_cabin_prefix(cabin):\n",
    "    if str(cabin) != 'nan':\n",
    "        return str(cabin)[0:1]"
   ]
  },
  {
   "cell_type": "code",
   "execution_count": 24,
   "metadata": {},
   "outputs": [],
   "source": [
    "#Cabin&Male\n",
    "def get_MaleHasCabin(sex,cabin):\n",
    "    if sex== 'male' and cabin !='U':\n",
    "        return 1\n",
    "    else:\n",
    "        return 0"
   ]
  },
  {
   "cell_type": "code",
   "execution_count": 25,
   "metadata": {},
   "outputs": [],
   "source": [
    "#set missing cabin method-2\n",
    "def get_cabin_no(s):\n",
    "    cabinno = s[1:]\n",
    "    if ' ' in cabinno:\n",
    "        cabinno =  cabinno.split(sep=' ')[0]\n",
    "    if ' ' in cabinno or cabinno=='':\n",
    "            cabinno = 0\n",
    "    return int(cabinno)\n",
    "\n",
    "def set_cabin_type2(df):\n",
    "    df['Cabin_1']=df.loc[df['Cabin'].notna(),'Cabin'].apply(lambda x: x[0:1])\n",
    "    df['Cabin_2']=df.loc[df['Cabin'].notna(),'Cabin'].apply(lambda x: get_cabin_no(x))\n",
    "    df.loc[(df['Cabin_2'].isnull()),'Cabin_2']=0\n",
    "    return df"
   ]
  },
  {
   "cell_type": "code",
   "execution_count": 26,
   "metadata": {},
   "outputs": [],
   "source": [
    "#add child feature\n",
    "def add_child(age):\n",
    "    child_flg = 0\n",
    "    if age <=12:\n",
    "        child_flg= 1\n",
    "    return child_flg"
   ]
  },
  {
   "cell_type": "code",
   "execution_count": 27,
   "metadata": {},
   "outputs": [],
   "source": [
    "#add mother feature\n",
    "def add_mother(title, parch):\n",
    "    mother_flg = 0\n",
    "    if title=='Mrs' and parch>0:\n",
    "        mother_flg =1\n",
    "    return mother_flg"
   ]
  },
  {
   "cell_type": "code",
   "execution_count": 28,
   "metadata": {},
   "outputs": [],
   "source": [
    "# Sex&Pclass\n",
    "def get_female_highclass(sex, pclass):\n",
    "    flg = 0\n",
    "    if sex=='female' and pclass!=3:\n",
    "        flg = 1\n",
    "    return flg\n",
    "\n",
    "def get_male_lowclass(sex, pclass):\n",
    "    flg = 0\n",
    "    if sex=='male' and pclass==3:\n",
    "        flg = 1\n",
    "    return flg"
   ]
  },
  {
   "cell_type": "code",
   "execution_count": 29,
   "metadata": {},
   "outputs": [],
   "source": [
    "# extract prefix of title\n",
    "Title_Dictionary = {\n",
    "    \"Capt\": \"Officer\",\n",
    "    \"Col\": \"Officer\",\n",
    "    \"Major\": \"Officer\",\n",
    "    \"Jonkheer\": \"Royalty\",\n",
    "    \"Don\": \"Royalty\",\n",
    "    \"Sir\" : \"Royalty\",\n",
    "    \"Dr\": \"Officer\",\n",
    "    \"Rev\": \"Officer\",\n",
    "    \"the Countess\":\"Royalty\",\n",
    "    \"Mme\": \"Mrs\",\n",
    "    \"Mlle\": \"Miss\",\n",
    "    \"Ms\": \"Mrs\",\n",
    "    \"Mr\" : \"Mr\",\n",
    "    \"Mrs\" : \"Mrs\",\n",
    "    \"Miss\" : \"Miss\",\n",
    "    \"Master\" : \"Master\",\n",
    "    \"Lady\" : \"Royalty\"\n",
    "}\n",
    "\n",
    "def get_titles(df):\n",
    "    df['Title'] = df['Name'].map(lambda name:name.split(',')[1].split('.')[0].strip())\n",
    "    df['Title'] = df.Title.map(Title_Dictionary)\n",
    "    return df"
   ]
  },
  {
   "cell_type": "code",
   "execution_count": 30,
   "metadata": {},
   "outputs": [],
   "source": [
    "#add feature family category \n",
    "def family_size_category(family_size):\n",
    "    if family_size <= 1:\n",
    "        return 'Single'\n",
    "    elif family_size <= 4:\n",
    "        return 'Small'\n",
    "    else:\n",
    "        return 'Large'"
   ]
  },
  {
   "cell_type": "code",
   "execution_count": 31,
   "metadata": {},
   "outputs": [],
   "source": [
    "#add feature ticket category\n",
    "def ticket_category(ticket):\n",
    "    ticket = ticket.replace('.', '')\n",
    "    ticket = ticket.replace('/', '')\n",
    "    ticket = ticket.split()\n",
    "    ticket = map(lambda t : t.strip(), ticket)\n",
    "    ticket = list(filter(lambda t : not t.isdigit(), ticket))\n",
    "    if len(ticket) > 0:\n",
    "        return ticket[0]\n",
    "    else: \n",
    "        return 'XXX'"
   ]
  },
  {
   "cell_type": "code",
   "execution_count": 32,
   "metadata": {},
   "outputs": [
    {
     "data": {
      "text/plain": [
       "(1309, 12)"
      ]
     },
     "execution_count": 32,
     "metadata": {},
     "output_type": "execute_result"
    }
   ],
   "source": [
    "#combine train data and test data\n",
    "df_test['Survived'] = 0\n",
    "df_combine=pd.concat([df_train,df_test])\n",
    "df_combine.shape"
   ]
  },
  {
   "cell_type": "code",
   "execution_count": 33,
   "metadata": {},
   "outputs": [],
   "source": [
    "# Process Fare\n",
    "df_combine.Fare.fillna(df_combine.Fare.mean(), inplace=True)\n",
    "\n",
    "df_combine['GroupTicket'] = df_combine['Fare'].groupby(by=df_combine['Ticket']).transform('count')\n",
    "df_combine['Fare'] = df_combine['Fare'] / df_combine['GroupTicket']\n",
    "df_combine.drop(['GroupTicket'], axis=1, inplace=True)\n",
    "\n",
    "def fare_category(fare):\n",
    "    if fare <= 8:\n",
    "        return 1\n",
    "    elif fare <= 26:\n",
    "        return 2\n",
    "    else:\n",
    "        return 3\n",
    "\n",
    "df_combine['FareCategory'] = df_combine['Fare'].map(fare_category)\n",
    "\n",
    "#Fare→Log\n",
    "# df_combine['Fare'] = df_combine.Fare.apply(lambda x: np.log(x)  if x!=0 else x)"
   ]
  },
  {
   "cell_type": "code",
   "execution_count": 34,
   "metadata": {},
   "outputs": [],
   "source": [
    "# Process Ticket\n",
    "df_combine['Ticket'] = df_combine['Ticket'].map(ticket_category)\n"
   ]
  },
  {
   "cell_type": "code",
   "execution_count": 35,
   "metadata": {},
   "outputs": [],
   "source": [
    "#Process Age \n",
    "df_combine,rfr = set_missing_age(df_combine)\n",
    "# df_combine['AgeCategory'] = pd.cut(df_combine['Age'],5)\n",
    "# combine_df = combine_df.drop('Age',axis=1)"
   ]
  },
  {
   "cell_type": "code",
   "execution_count": 36,
   "metadata": {
    "scrolled": true
   },
   "outputs": [],
   "source": [
    "#Process Cabin\n",
    "# Fillna Cabin\n",
    "df_combine = set_missing_cabin(df_combine)\n",
    "#Extract prefix from cabin\n",
    "# df_combine['Cabin'] = df_combine['Cabin'].apply(lambda x : get_cabin_prefix(x))"
   ]
  },
  {
   "cell_type": "code",
   "execution_count": 37,
   "metadata": {},
   "outputs": [],
   "source": [
    "#Fillna Embarked\n",
    "df_combine.loc[df_combine['Embarked'].isnull(),'Embarked'] = df_combine['Embarked'].mode()[0]"
   ]
  },
  {
   "cell_type": "code",
   "execution_count": 38,
   "metadata": {},
   "outputs": [],
   "source": [
    "#Add Feature Sex&Pclass\n",
    "# df_combine['FemaleHighClass'] =  df_combine.apply(lambda x: get_female_highclass(x.Sex,x.Pclass), axis=1)\n",
    "# df_combine['MaleLowClass'] =  df_combine.apply(lambda x: get_male_lowclass(x.Sex,x.Pclass), axis=1)"
   ]
  },
  {
   "cell_type": "code",
   "execution_count": 39,
   "metadata": {},
   "outputs": [],
   "source": [
    "# Add Feature FamilyCategory(Parch+SibSp)\n",
    "from sklearn import preprocessing\n",
    "df_combine['FamilySize'] = df_combine['Parch'] + df_combine['SibSp'] + 1\n",
    "df_combine['FamilyCategory'] = df_combine['FamilySize'].map(family_size_category)"
   ]
  },
  {
   "cell_type": "code",
   "execution_count": 40,
   "metadata": {
    "scrolled": false
   },
   "outputs": [],
   "source": [
    "#Add Feature Title\n",
    "# # 第一次extract处理是：匹配正则表达式中的“，”的位置，并将“（）”括号中的部分抽出来，在下式中也就是“，” Name字段里“逗号”后面的部分截取留下来\n",
    "# #第二次extract处理是：匹配正则表达式中的“.”的位置，并将“（）”括号中的部分抽出来，在下式中也就是“.”Name字段里点前面的部分截取留下来\n",
    "# #（）代表匹配后被留下里的部分\n",
    "# df_combine['Title'] = df_combine['Name'].str.extract('.+,(.+)').str.extract( '^(.+?)\\.').str.strip()\n",
    "# df_combine['Title'] = df_combine['Title'].map(create_title_dict())\n",
    "\n",
    "df_combine = get_titles(df_combine)"
   ]
  },
  {
   "cell_type": "code",
   "execution_count": 41,
   "metadata": {},
   "outputs": [],
   "source": [
    "#Add Feature Child \n",
    "df_combine['Child'] = df_combine['Age'].apply(lambda x: add_child(x))"
   ]
  },
  {
   "cell_type": "code",
   "execution_count": 42,
   "metadata": {},
   "outputs": [],
   "source": [
    "#Add Feature Mother\n",
    "df_combine['Mother'] = df_combine.apply(lambda x: add_mother(x.Title,x.Parch), axis=1)"
   ]
  },
  {
   "cell_type": "code",
   "execution_count": 43,
   "metadata": {
    "scrolled": true
   },
   "outputs": [],
   "source": [
    "#Add feature Cabin&Male\n",
    "# df_combine['MaleHasCabin'] =df_combine.apply(lambda x : get_MaleHasCabin(x.Sex,x.Cabin),axis=1)"
   ]
  },
  {
   "cell_type": "code",
   "execution_count": 44,
   "metadata": {},
   "outputs": [],
   "source": [
    "#DeadFemaleFamily & SurviveMaleFamily\n",
    "df_combine['Surname'] = df_combine['Name'].apply(lambda x:x.split(',')[0])\n",
    "dead_female_surname = list(set(df_combine[(df_combine.Sex=='female') & (df_combine.Age>=12)\n",
    "                              & (df_combine.Survived==0) & ((df_combine.Parch>0)  | (df_combine.SibSp > 0))]['Surname'].values))\n",
    "survive_male_surname = list(set(df_combine[(df_combine.Sex=='male') & (df_combine.Age>=12)\n",
    "                              & (df_combine.Survived==1) & ((df_combine.Parch>0)  | (df_combine.SibSp > 0))]['Surname'].values))\n",
    "\n",
    "# print(dead_female_surname)\n",
    "# print(survive_male_surname)\n",
    "\n",
    "df_combine['DeadFemaleFamily'] = np.where(df_combine['Surname'].isin(dead_female_surname),0,1)\n",
    "df_combine['SurviveMaleFamily'] = np.where(df_combine['Surname'].isin(survive_male_surname),0,1)\n",
    "# df_combine = df_combine.drop(['Name','Surname'],axis=1)"
   ]
  },
  {
   "cell_type": "code",
   "execution_count": 45,
   "metadata": {},
   "outputs": [],
   "source": [
    "#Name_length\n",
    "df_combine['NameLen'] = df_combine['Name'].apply(lambda x: len(x))\n",
    "df_combine['NameLen'] = pd.qcut(df_combine['NameLen'],5)\n",
    "\n",
    "# features = combine_df.drop([\"PassengerId\",\"Survived\"], axis=1).columns\n",
    "le = LabelEncoder()\n",
    "# for feature in features:\n",
    "le = le.fit(df_combine['NameLen'])\n",
    "df_combine['NameLen'] = le.transform(df_combine['NameLen'])"
   ]
  },
  {
   "cell_type": "code",
   "execution_count": 46,
   "metadata": {},
   "outputs": [],
   "source": [
    "#Extracting dummy variables\n",
    "#one-hot encoding\n",
    "dummy_Cabin = pd.get_dummies(df_combine.Cabin,  prefix=\"Cabin\")\n",
    "dummy_Embarked = pd.get_dummies(df_combine['Embarked'],  prefix=\"Embarked\")\n",
    "dummy_Sex = pd.get_dummies(df_combine['Sex'], prefix=\"Sex\")\n",
    "dummy_Pclass =pd.get_dummies(df_combine['Pclass'], prefix=\"Pclass\")\n",
    "dummy_Title =pd.get_dummies(df_combine['Title'], prefix=\"Title\")\n",
    "dummy_FamilyCategory = pd.get_dummies(df_combine['FamilyCategory'],prefix=\"FamilyCategory\")\n",
    "dummy_FareCategory = pd.get_dummies(df_combine['FareCategory'],prefix=\"FareCategory\")\n",
    "# dummy_AgeCategory = pd.get_dummies(df_combine['AgeCategory'],prefix=\"AgeCategory\")\n",
    "dummy_Ticket =pd.get_dummies(df_combine['Ticket'], prefix=\"Ticket\")"
   ]
  },
  {
   "cell_type": "code",
   "execution_count": 47,
   "metadata": {},
   "outputs": [
    {
     "data": {
      "text/plain": [
       "(1309, 81)"
      ]
     },
     "execution_count": 47,
     "metadata": {},
     "output_type": "execute_result"
    }
   ],
   "source": [
    "df_combine= pd.concat([df_combine, dummy_Cabin,dummy_Embarked,dummy_Sex,dummy_Pclass,dummy_Title,dummy_FamilyCategory,dummy_FareCategory,dummy_Ticket]\n",
    "                      , axis=1)\n",
    "df_combine.shape"
   ]
  },
  {
   "cell_type": "code",
   "execution_count": 48,
   "metadata": {},
   "outputs": [
    {
     "data": {
      "text/plain": [
       "<matplotlib.axes._subplots.AxesSubplot at 0x1a1de76b70>"
      ]
     },
     "execution_count": 48,
     "metadata": {},
     "output_type": "execute_result"
    },
    {
     "data": {
      "text/plain": [
       "<Figure size 432x288 with 0 Axes>"
      ]
     },
     "metadata": {},
     "output_type": "display_data"
    },
    {
     "data": {
      "image/png": "[encoded data removed]",
      "text/plain": [
       "<Figure size 432x288 with 1 Axes>"
      ]
     },
     "metadata": {
      "needs_background": "light"
     },
     "output_type": "display_data"
    }
   ],
   "source": [
    "#Title&Survived\n",
    "fig7 = plt.figure()\n",
    "\n",
    "df_train_fig = df_combine[:891]\n",
    "\n",
    "survived_title_0 = df_train_fig.Title[df_train_fig.Survived==0].value_counts()\n",
    "survived_title_1 = df_train_fig.Title[df_train_fig.Survived==1].value_counts()\n",
    "\n",
    "df_survived_title = pd.DataFrame({'0':survived_title_0,'1':survived_title_1})\n",
    "df_survived_title.plot(kind=\"bar\",stacked=True)"
   ]
  },
  {
   "cell_type": "code",
   "execution_count": 49,
   "metadata": {},
   "outputs": [],
   "source": [
    "#Scaler\n",
    "import sklearn.preprocessing as preprocessing\n",
    "scaler = preprocessing.StandardScaler()\n",
    "\n",
    "# df_combine['Age_scaled']= scaler.fit(df_combine[['Age']]) .transform(df_combine[['Age']])\n",
    "# df_combine['Fare_scaled'] = scaler.fit(df_combine[['Fare']]).transform(df_combine[['Fare']])"
   ]
  },
  {
   "cell_type": "markdown",
   "metadata": {},
   "source": [
    "##### 4.Split Training and Test Sets #####"
   ]
  },
  {
   "cell_type": "code",
   "execution_count": 50,
   "metadata": {
    "scrolled": false
   },
   "outputs": [
    {
     "name": "stdout",
     "output_type": "stream",
     "text": [
      "(1309, 81)\n",
      "(1309, 28)\n",
      "Index(['Survived', 'Child', 'Mother', 'DeadFemaleFamily', 'SurviveMaleFamily',\n",
      "       'NameLen', 'Cabin_No', 'Cabin_Yes', 'Embarked_C', 'Embarked_Q',\n",
      "       'Embarked_S', 'Sex_female', 'Sex_male', 'Pclass_1', 'Pclass_2',\n",
      "       'Pclass_3', 'Title_Master', 'Title_Miss', 'Title_Mr', 'Title_Mrs',\n",
      "       'Title_Officer', 'Title_Royalty', 'FamilyCategory_Large',\n",
      "       'FamilyCategory_Single', 'FamilyCategory_Small', 'FareCategory_1',\n",
      "       'FareCategory_2', 'FareCategory_3'],\n",
      "      dtype='object')\n"
     ]
    }
   ],
   "source": [
    "#Properity\n",
    "prop_regex = 'Survived|Sex_.*|FamilyCategory_.*|FareCategory_.*|Cabin_.*|Pclass_.*|Title_.*|Embarked_.*|Child|Mother|DeadFemaleFamily|SurviveMaleFamily|NameLen'\n",
    "df_combine_filter = df_combine.filter(regex=prop_regex)\n",
    "\n",
    "cols = list(df_combine_filter)\n",
    "# move the column to head of list using index, pop and insert\n",
    "cols.insert(0, cols.pop(cols.index('Survived')))\n",
    "# reorder\n",
    "df_combine_filter = df_combine_filter.loc[:, cols]\n",
    "print(df_combine.shape)\n",
    "print(df_combine_filter.shape)\n",
    "print(df_combine_filter.columns)\n",
    "\n",
    "df_train_new = df_combine_filter[ :891]\n",
    "df_test_new = df_combine_filter[ 891:]\n",
    "\n",
    "train_X = df_train_new.drop(columns=['Survived'])\n",
    "train_Y = df_train_new['Survived']\n",
    "\n",
    "test_X = df_test_new.drop(columns=['Survived'])"
   ]
  },
  {
   "cell_type": "code",
   "execution_count": 51,
   "metadata": {
    "scrolled": true
   },
   "outputs": [],
   "source": [
    "# print(df_combine_filter[['Sex_female','Survived']].corr())\n",
    "# print(df_combine_filter[['Title_Master','Survived']].corr())"
   ]
  },
  {
   "cell_type": "markdown",
   "metadata": {},
   "source": [
    "##### 4.Feature Selection ##### "
   ]
  },
  {
   "cell_type": "code",
   "execution_count": 52,
   "metadata": {},
   "outputs": [],
   "source": [
    "select_clf = RandomForestRegressor(n_estimators=50, max_features='sqrt')\n",
    "select_clf.fit(train_X, train_Y)\n",
    "\n",
    "features = pd.DataFrame()\n",
    "features['feature'] = train_X.columns\n",
    "features['importance'] = select_clf.feature_importances_\n",
    "features.sort_values(by=['importance'], ascending=True, inplace=True)\n",
    "features.set_index('feature', inplace=True)"
   ]
  },
  {
   "cell_type": "code",
   "execution_count": 53,
   "metadata": {
    "scrolled": true
   },
   "outputs": [
    {
     "data": {
      "text/plain": [
       "<matplotlib.axes._subplots.AxesSubplot at 0x1a1df93278>"
      ]
     },
     "execution_count": 53,
     "metadata": {},
     "output_type": "execute_result"
    },
    {
     "data": {
      "image/png": "[encoded data removed]",
      "text/plain": [
       "<Figure size 1800x1800 with 1 Axes>"
      ]
     },
     "metadata": {
      "needs_background": "light"
     },
     "output_type": "display_data"
    }
   ],
   "source": [
    "features.plot(kind='barh', figsize=(25, 25))"
   ]
  },
  {
   "cell_type": "code",
   "execution_count": 54,
   "metadata": {},
   "outputs": [
    {
     "name": "stdout",
     "output_type": "stream",
     "text": [
      "(891, 27)\n"
     ]
    }
   ],
   "source": [
    "from sklearn.feature_selection import SelectFromModel\n",
    "\n",
    "model = SelectFromModel(select_clf, prefit=True,threshold=0.0)\n",
    "recude_train= model.transform(train_X)\n",
    "# print(model.threshold)\n",
    "print(recude_train.shape)"
   ]
  },
  {
   "cell_type": "code",
   "execution_count": 55,
   "metadata": {},
   "outputs": [
    {
     "data": {
      "text/plain": [
       "(418, 27)"
      ]
     },
     "execution_count": 55,
     "metadata": {},
     "output_type": "execute_result"
    }
   ],
   "source": [
    "recude_test = model.transform(test_X)\n",
    "recude_test.shape"
   ]
  },
  {
   "cell_type": "markdown",
   "metadata": {},
   "source": [
    "\n",
    "##### 5. Cross Validate with KFold #####"
   ]
  },
  {
   "cell_type": "code",
   "execution_count": 56,
   "metadata": {},
   "outputs": [
    {
     "name": "stderr",
     "output_type": "stream",
     "text": [
      "/anaconda3/lib/python3.6/site-packages/ipykernel_launcher.py:12: SettingWithCopyWarning: \n",
      "A value is trying to be set on a copy of a slice from a DataFrame\n",
      "\n",
      "See the caveats in the documentation: http://pandas.pydata.org/pandas-docs/stable/indexing.html#indexing-view-versus-copy\n",
      "  if sys.path[0] == '':\n",
      "/anaconda3/lib/python3.6/site-packages/ipykernel_launcher.py:13: SettingWithCopyWarning: \n",
      "A value is trying to be set on a copy of a slice from a DataFrame\n",
      "\n",
      "See the caveats in the documentation: http://pandas.pydata.org/pandas-docs/stable/indexing.html#indexing-view-versus-copy\n",
      "  del sys.path[0]\n"
     ]
    },
    {
     "data": {
      "text/html": [
       "<div>\n",
       "<style scoped>\n",
       "    .dataframe tbody tr th:only-of-type {\n",
       "        vertical-align: middle;\n",
       "    }\n",
       "\n",
       "    .dataframe tbody tr th {\n",
       "        vertical-align: top;\n",
       "    }\n",
       "\n",
       "    .dataframe thead th {\n",
       "        text-align: right;\n",
       "    }\n",
       "</style>\n",
       "<table border=\"1\" class=\"dataframe\">\n",
       "  <thead>\n",
       "    <tr style=\"text-align: right;\">\n",
       "      <th></th>\n",
       "      <th>Age</th>\n",
       "      <th>Cabin</th>\n",
       "      <th>Embarked</th>\n",
       "      <th>Fare</th>\n",
       "      <th>Name</th>\n",
       "      <th>Parch</th>\n",
       "      <th>PassengerId</th>\n",
       "      <th>Pclass</th>\n",
       "      <th>Sex</th>\n",
       "      <th>SibSp</th>\n",
       "      <th>...</th>\n",
       "      <th>Ticket_SP</th>\n",
       "      <th>Ticket_STONO</th>\n",
       "      <th>Ticket_STONO2</th>\n",
       "      <th>Ticket_STONOQ</th>\n",
       "      <th>Ticket_SWPP</th>\n",
       "      <th>Ticket_WC</th>\n",
       "      <th>Ticket_WEP</th>\n",
       "      <th>Ticket_XXX</th>\n",
       "      <th>PassengerId</th>\n",
       "      <th>SurvivedRlt</th>\n",
       "    </tr>\n",
       "  </thead>\n",
       "  <tbody>\n",
       "    <tr>\n",
       "      <th>5</th>\n",
       "      <td>41.299781</td>\n",
       "      <td>Yes</td>\n",
       "      <td>S</td>\n",
       "      <td>30.500000</td>\n",
       "      <td>Saalfeld, Mr. Adolphe</td>\n",
       "      <td>0</td>\n",
       "      <td>299</td>\n",
       "      <td>1</td>\n",
       "      <td>male</td>\n",
       "      <td>0</td>\n",
       "      <td>...</td>\n",
       "      <td>0</td>\n",
       "      <td>0</td>\n",
       "      <td>0</td>\n",
       "      <td>0</td>\n",
       "      <td>0</td>\n",
       "      <td>0</td>\n",
       "      <td>0</td>\n",
       "      <td>1</td>\n",
       "      <td>299</td>\n",
       "      <td>0</td>\n",
       "    </tr>\n",
       "    <tr>\n",
       "      <th>11</th>\n",
       "      <td>40.000000</td>\n",
       "      <td>No</td>\n",
       "      <td>S</td>\n",
       "      <td>13.000000</td>\n",
       "      <td>Smith, Miss. Marion Elsie</td>\n",
       "      <td>0</td>\n",
       "      <td>347</td>\n",
       "      <td>2</td>\n",
       "      <td>female</td>\n",
       "      <td>0</td>\n",
       "      <td>...</td>\n",
       "      <td>0</td>\n",
       "      <td>0</td>\n",
       "      <td>0</td>\n",
       "      <td>0</td>\n",
       "      <td>0</td>\n",
       "      <td>0</td>\n",
       "      <td>0</td>\n",
       "      <td>1</td>\n",
       "      <td>347</td>\n",
       "      <td>0</td>\n",
       "    </tr>\n",
       "    <tr>\n",
       "      <th>15</th>\n",
       "      <td>14.000000</td>\n",
       "      <td>No</td>\n",
       "      <td>S</td>\n",
       "      <td>7.854200</td>\n",
       "      <td>Vestrom, Miss. Hulda Amanda Adolfina</td>\n",
       "      <td>0</td>\n",
       "      <td>15</td>\n",
       "      <td>3</td>\n",
       "      <td>female</td>\n",
       "      <td>0</td>\n",
       "      <td>...</td>\n",
       "      <td>0</td>\n",
       "      <td>0</td>\n",
       "      <td>0</td>\n",
       "      <td>0</td>\n",
       "      <td>0</td>\n",
       "      <td>0</td>\n",
       "      <td>0</td>\n",
       "      <td>1</td>\n",
       "      <td>15</td>\n",
       "      <td>1</td>\n",
       "    </tr>\n",
       "    <tr>\n",
       "      <th>24</th>\n",
       "      <td>22.000000</td>\n",
       "      <td>No</td>\n",
       "      <td>S</td>\n",
       "      <td>9.837500</td>\n",
       "      <td>Strandberg, Miss. Ida Sofia</td>\n",
       "      <td>0</td>\n",
       "      <td>475</td>\n",
       "      <td>3</td>\n",
       "      <td>female</td>\n",
       "      <td>0</td>\n",
       "      <td>...</td>\n",
       "      <td>0</td>\n",
       "      <td>0</td>\n",
       "      <td>0</td>\n",
       "      <td>0</td>\n",
       "      <td>0</td>\n",
       "      <td>0</td>\n",
       "      <td>0</td>\n",
       "      <td>1</td>\n",
       "      <td>475</td>\n",
       "      <td>1</td>\n",
       "    </tr>\n",
       "    <tr>\n",
       "      <th>33</th>\n",
       "      <td>42.986540</td>\n",
       "      <td>Yes</td>\n",
       "      <td>S</td>\n",
       "      <td>35.500000</td>\n",
       "      <td>Woolner, Mr. Hugh</td>\n",
       "      <td>0</td>\n",
       "      <td>56</td>\n",
       "      <td>1</td>\n",
       "      <td>male</td>\n",
       "      <td>0</td>\n",
       "      <td>...</td>\n",
       "      <td>0</td>\n",
       "      <td>0</td>\n",
       "      <td>0</td>\n",
       "      <td>0</td>\n",
       "      <td>0</td>\n",
       "      <td>0</td>\n",
       "      <td>0</td>\n",
       "      <td>1</td>\n",
       "      <td>56</td>\n",
       "      <td>0</td>\n",
       "    </tr>\n",
       "    <tr>\n",
       "      <th>35</th>\n",
       "      <td>32.000000</td>\n",
       "      <td>Yes</td>\n",
       "      <td>C</td>\n",
       "      <td>30.500000</td>\n",
       "      <td>Stahelin-Maeglin, Dr. Max</td>\n",
       "      <td>0</td>\n",
       "      <td>633</td>\n",
       "      <td>1</td>\n",
       "      <td>male</td>\n",
       "      <td>0</td>\n",
       "      <td>...</td>\n",
       "      <td>0</td>\n",
       "      <td>0</td>\n",
       "      <td>0</td>\n",
       "      <td>0</td>\n",
       "      <td>0</td>\n",
       "      <td>0</td>\n",
       "      <td>0</td>\n",
       "      <td>1</td>\n",
       "      <td>633</td>\n",
       "      <td>0</td>\n",
       "    </tr>\n",
       "    <tr>\n",
       "      <th>47</th>\n",
       "      <td>18.000000</td>\n",
       "      <td>Yes</td>\n",
       "      <td>C</td>\n",
       "      <td>37.482143</td>\n",
       "      <td>Ryerson, Miss. Emily Borie</td>\n",
       "      <td>2</td>\n",
       "      <td>312</td>\n",
       "      <td>1</td>\n",
       "      <td>female</td>\n",
       "      <td>2</td>\n",
       "      <td>...</td>\n",
       "      <td>0</td>\n",
       "      <td>0</td>\n",
       "      <td>0</td>\n",
       "      <td>0</td>\n",
       "      <td>0</td>\n",
       "      <td>0</td>\n",
       "      <td>0</td>\n",
       "      <td>0</td>\n",
       "      <td>312</td>\n",
       "      <td>0</td>\n",
       "    </tr>\n",
       "    <tr>\n",
       "      <th>50</th>\n",
       "      <td>38.314627</td>\n",
       "      <td>Yes</td>\n",
       "      <td>S</td>\n",
       "      <td>30.000000</td>\n",
       "      <td>Hawksford, Mr. Walter James</td>\n",
       "      <td>0</td>\n",
       "      <td>741</td>\n",
       "      <td>1</td>\n",
       "      <td>male</td>\n",
       "      <td>0</td>\n",
       "      <td>...</td>\n",
       "      <td>0</td>\n",
       "      <td>0</td>\n",
       "      <td>0</td>\n",
       "      <td>0</td>\n",
       "      <td>0</td>\n",
       "      <td>0</td>\n",
       "      <td>0</td>\n",
       "      <td>1</td>\n",
       "      <td>741</td>\n",
       "      <td>0</td>\n",
       "    </tr>\n",
       "    <tr>\n",
       "      <th>52</th>\n",
       "      <td>4.000000</td>\n",
       "      <td>No</td>\n",
       "      <td>S</td>\n",
       "      <td>7.666667</td>\n",
       "      <td>Wells, Miss. Joan</td>\n",
       "      <td>1</td>\n",
       "      <td>751</td>\n",
       "      <td>2</td>\n",
       "      <td>female</td>\n",
       "      <td>1</td>\n",
       "      <td>...</td>\n",
       "      <td>0</td>\n",
       "      <td>0</td>\n",
       "      <td>0</td>\n",
       "      <td>0</td>\n",
       "      <td>0</td>\n",
       "      <td>0</td>\n",
       "      <td>0</td>\n",
       "      <td>1</td>\n",
       "      <td>751</td>\n",
       "      <td>0</td>\n",
       "    </tr>\n",
       "    <tr>\n",
       "      <th>54</th>\n",
       "      <td>46.966304</td>\n",
       "      <td>Yes</td>\n",
       "      <td>C</td>\n",
       "      <td>29.700000</td>\n",
       "      <td>Marechal, Mr. Pierre</td>\n",
       "      <td>0</td>\n",
       "      <td>840</td>\n",
       "      <td>1</td>\n",
       "      <td>male</td>\n",
       "      <td>0</td>\n",
       "      <td>...</td>\n",
       "      <td>0</td>\n",
       "      <td>0</td>\n",
       "      <td>0</td>\n",
       "      <td>0</td>\n",
       "      <td>0</td>\n",
       "      <td>0</td>\n",
       "      <td>0</td>\n",
       "      <td>1</td>\n",
       "      <td>840</td>\n",
       "      <td>0</td>\n",
       "    </tr>\n",
       "    <tr>\n",
       "      <th>59</th>\n",
       "      <td>33.309902</td>\n",
       "      <td>No</td>\n",
       "      <td>Q</td>\n",
       "      <td>7.750000</td>\n",
       "      <td>McCoy, Mr. Bernard</td>\n",
       "      <td>0</td>\n",
       "      <td>302</td>\n",
       "      <td>3</td>\n",
       "      <td>male</td>\n",
       "      <td>2</td>\n",
       "      <td>...</td>\n",
       "      <td>0</td>\n",
       "      <td>0</td>\n",
       "      <td>0</td>\n",
       "      <td>0</td>\n",
       "      <td>0</td>\n",
       "      <td>0</td>\n",
       "      <td>0</td>\n",
       "      <td>1</td>\n",
       "      <td>302</td>\n",
       "      <td>0</td>\n",
       "    </tr>\n",
       "    <tr>\n",
       "      <th>67</th>\n",
       "      <td>28.000000</td>\n",
       "      <td>No</td>\n",
       "      <td>S</td>\n",
       "      <td>11.000000</td>\n",
       "      <td>Harper, Rev. John</td>\n",
       "      <td>1</td>\n",
       "      <td>849</td>\n",
       "      <td>2</td>\n",
       "      <td>male</td>\n",
       "      <td>0</td>\n",
       "      <td>...</td>\n",
       "      <td>0</td>\n",
       "      <td>0</td>\n",
       "      <td>0</td>\n",
       "      <td>0</td>\n",
       "      <td>0</td>\n",
       "      <td>0</td>\n",
       "      <td>0</td>\n",
       "      <td>1</td>\n",
       "      <td>849</td>\n",
       "      <td>1</td>\n",
       "    </tr>\n",
       "    <tr>\n",
       "      <th>77</th>\n",
       "      <td>40.000000</td>\n",
       "      <td>No</td>\n",
       "      <td>C</td>\n",
       "      <td>27.720800</td>\n",
       "      <td>Uruchurtu, Don. Manuel E</td>\n",
       "      <td>0</td>\n",
       "      <td>31</td>\n",
       "      <td>1</td>\n",
       "      <td>male</td>\n",
       "      <td>0</td>\n",
       "      <td>...</td>\n",
       "      <td>0</td>\n",
       "      <td>0</td>\n",
       "      <td>0</td>\n",
       "      <td>0</td>\n",
       "      <td>0</td>\n",
       "      <td>0</td>\n",
       "      <td>0</td>\n",
       "      <td>0</td>\n",
       "      <td>31</td>\n",
       "      <td>1</td>\n",
       "    </tr>\n",
       "    <tr>\n",
       "      <th>82</th>\n",
       "      <td>26.000000</td>\n",
       "      <td>No</td>\n",
       "      <td>S</td>\n",
       "      <td>13.000000</td>\n",
       "      <td>Lahtinen, Mrs. William (Anna Sylfven)</td>\n",
       "      <td>1</td>\n",
       "      <td>313</td>\n",
       "      <td>2</td>\n",
       "      <td>female</td>\n",
       "      <td>1</td>\n",
       "      <td>...</td>\n",
       "      <td>0</td>\n",
       "      <td>0</td>\n",
       "      <td>0</td>\n",
       "      <td>0</td>\n",
       "      <td>0</td>\n",
       "      <td>0</td>\n",
       "      <td>0</td>\n",
       "      <td>1</td>\n",
       "      <td>313</td>\n",
       "      <td>1</td>\n",
       "    </tr>\n",
       "    <tr>\n",
       "      <th>99</th>\n",
       "      <td>27.000000</td>\n",
       "      <td>Yes</td>\n",
       "      <td>C</td>\n",
       "      <td>25.576400</td>\n",
       "      <td>Hassab, Mr. Hammad</td>\n",
       "      <td>0</td>\n",
       "      <td>682</td>\n",
       "      <td>1</td>\n",
       "      <td>male</td>\n",
       "      <td>0</td>\n",
       "      <td>...</td>\n",
       "      <td>0</td>\n",
       "      <td>0</td>\n",
       "      <td>0</td>\n",
       "      <td>0</td>\n",
       "      <td>0</td>\n",
       "      <td>0</td>\n",
       "      <td>0</td>\n",
       "      <td>0</td>\n",
       "      <td>682</td>\n",
       "      <td>0</td>\n",
       "    </tr>\n",
       "    <tr>\n",
       "      <th>101</th>\n",
       "      <td>54.000000</td>\n",
       "      <td>No</td>\n",
       "      <td>S</td>\n",
       "      <td>13.000000</td>\n",
       "      <td>Carter, Rev. Ernest Courtenay</td>\n",
       "      <td>0</td>\n",
       "      <td>250</td>\n",
       "      <td>2</td>\n",
       "      <td>male</td>\n",
       "      <td>1</td>\n",
       "      <td>...</td>\n",
       "      <td>0</td>\n",
       "      <td>0</td>\n",
       "      <td>0</td>\n",
       "      <td>0</td>\n",
       "      <td>0</td>\n",
       "      <td>0</td>\n",
       "      <td>0</td>\n",
       "      <td>1</td>\n",
       "      <td>250</td>\n",
       "      <td>1</td>\n",
       "    </tr>\n",
       "    <tr>\n",
       "      <th>104</th>\n",
       "      <td>29.000000</td>\n",
       "      <td>Yes</td>\n",
       "      <td>S</td>\n",
       "      <td>5.231250</td>\n",
       "      <td>Strom, Mrs. Wilhelm (Elna Matilda Persson)</td>\n",
       "      <td>1</td>\n",
       "      <td>252</td>\n",
       "      <td>3</td>\n",
       "      <td>female</td>\n",
       "      <td>1</td>\n",
       "      <td>...</td>\n",
       "      <td>0</td>\n",
       "      <td>0</td>\n",
       "      <td>0</td>\n",
       "      <td>0</td>\n",
       "      <td>0</td>\n",
       "      <td>0</td>\n",
       "      <td>0</td>\n",
       "      <td>1</td>\n",
       "      <td>252</td>\n",
       "      <td>1</td>\n",
       "    </tr>\n",
       "    <tr>\n",
       "      <th>112</th>\n",
       "      <td>32.000000</td>\n",
       "      <td>No</td>\n",
       "      <td>S</td>\n",
       "      <td>7.061975</td>\n",
       "      <td>Chip, Mr. Chang</td>\n",
       "      <td>0</td>\n",
       "      <td>839</td>\n",
       "      <td>3</td>\n",
       "      <td>male</td>\n",
       "      <td>0</td>\n",
       "      <td>...</td>\n",
       "      <td>0</td>\n",
       "      <td>0</td>\n",
       "      <td>0</td>\n",
       "      <td>0</td>\n",
       "      <td>0</td>\n",
       "      <td>0</td>\n",
       "      <td>0</td>\n",
       "      <td>1</td>\n",
       "      <td>839</td>\n",
       "      <td>0</td>\n",
       "    </tr>\n",
       "    <tr>\n",
       "      <th>113</th>\n",
       "      <td>29.461271</td>\n",
       "      <td>No</td>\n",
       "      <td>S</td>\n",
       "      <td>8.050000</td>\n",
       "      <td>Meanwell, Miss. (Marion Ogden)</td>\n",
       "      <td>0</td>\n",
       "      <td>565</td>\n",
       "      <td>3</td>\n",
       "      <td>female</td>\n",
       "      <td>0</td>\n",
       "      <td>...</td>\n",
       "      <td>0</td>\n",
       "      <td>0</td>\n",
       "      <td>0</td>\n",
       "      <td>0</td>\n",
       "      <td>0</td>\n",
       "      <td>0</td>\n",
       "      <td>0</td>\n",
       "      <td>0</td>\n",
       "      <td>565</td>\n",
       "      <td>1</td>\n",
       "    </tr>\n",
       "    <tr>\n",
       "      <th>120</th>\n",
       "      <td>29.678423</td>\n",
       "      <td>No</td>\n",
       "      <td>S</td>\n",
       "      <td>7.061975</td>\n",
       "      <td>Foo, Mr. Choong</td>\n",
       "      <td>0</td>\n",
       "      <td>644</td>\n",
       "      <td>3</td>\n",
       "      <td>male</td>\n",
       "      <td>0</td>\n",
       "      <td>...</td>\n",
       "      <td>0</td>\n",
       "      <td>0</td>\n",
       "      <td>0</td>\n",
       "      <td>0</td>\n",
       "      <td>0</td>\n",
       "      <td>0</td>\n",
       "      <td>0</td>\n",
       "      <td>1</td>\n",
       "      <td>644</td>\n",
       "      <td>0</td>\n",
       "    </tr>\n",
       "    <tr>\n",
       "      <th>130</th>\n",
       "      <td>21.000000</td>\n",
       "      <td>No</td>\n",
       "      <td>Q</td>\n",
       "      <td>7.750000</td>\n",
       "      <td>Canavan, Miss. Mary</td>\n",
       "      <td>0</td>\n",
       "      <td>502</td>\n",
       "      <td>3</td>\n",
       "      <td>female</td>\n",
       "      <td>0</td>\n",
       "      <td>...</td>\n",
       "      <td>0</td>\n",
       "      <td>0</td>\n",
       "      <td>0</td>\n",
       "      <td>0</td>\n",
       "      <td>0</td>\n",
       "      <td>0</td>\n",
       "      <td>0</td>\n",
       "      <td>1</td>\n",
       "      <td>502</td>\n",
       "      <td>1</td>\n",
       "    </tr>\n",
       "    <tr>\n",
       "      <th>143</th>\n",
       "      <td>18.000000</td>\n",
       "      <td>No</td>\n",
       "      <td>Q</td>\n",
       "      <td>6.750000</td>\n",
       "      <td>Hegarty, Miss. Hanora \"Nora\"</td>\n",
       "      <td>0</td>\n",
       "      <td>655</td>\n",
       "      <td>3</td>\n",
       "      <td>female</td>\n",
       "      <td>0</td>\n",
       "      <td>...</td>\n",
       "      <td>0</td>\n",
       "      <td>0</td>\n",
       "      <td>0</td>\n",
       "      <td>0</td>\n",
       "      <td>0</td>\n",
       "      <td>0</td>\n",
       "      <td>0</td>\n",
       "      <td>1</td>\n",
       "      <td>655</td>\n",
       "      <td>1</td>\n",
       "    </tr>\n",
       "    <tr>\n",
       "      <th>145</th>\n",
       "      <td>24.000000</td>\n",
       "      <td>No</td>\n",
       "      <td>S</td>\n",
       "      <td>8.850000</td>\n",
       "      <td>Haas, Miss. Aloisia</td>\n",
       "      <td>0</td>\n",
       "      <td>294</td>\n",
       "      <td>3</td>\n",
       "      <td>female</td>\n",
       "      <td>0</td>\n",
       "      <td>...</td>\n",
       "      <td>0</td>\n",
       "      <td>0</td>\n",
       "      <td>0</td>\n",
       "      <td>0</td>\n",
       "      <td>0</td>\n",
       "      <td>0</td>\n",
       "      <td>0</td>\n",
       "      <td>1</td>\n",
       "      <td>294</td>\n",
       "      <td>1</td>\n",
       "    </tr>\n",
       "    <tr>\n",
       "      <th>152</th>\n",
       "      <td>37.000000</td>\n",
       "      <td>No</td>\n",
       "      <td>S</td>\n",
       "      <td>9.587500</td>\n",
       "      <td>Laitinen, Miss. Kristina Sofia</td>\n",
       "      <td>0</td>\n",
       "      <td>504</td>\n",
       "      <td>3</td>\n",
       "      <td>female</td>\n",
       "      <td>0</td>\n",
       "      <td>...</td>\n",
       "      <td>0</td>\n",
       "      <td>0</td>\n",
       "      <td>0</td>\n",
       "      <td>0</td>\n",
       "      <td>0</td>\n",
       "      <td>0</td>\n",
       "      <td>0</td>\n",
       "      <td>1</td>\n",
       "      <td>504</td>\n",
       "      <td>1</td>\n",
       "    </tr>\n",
       "    <tr>\n",
       "      <th>157</th>\n",
       "      <td>62.000000</td>\n",
       "      <td>No</td>\n",
       "      <td>S</td>\n",
       "      <td>10.500000</td>\n",
       "      <td>Harris, Mr. George</td>\n",
       "      <td>0</td>\n",
       "      <td>571</td>\n",
       "      <td>2</td>\n",
       "      <td>male</td>\n",
       "      <td>0</td>\n",
       "      <td>...</td>\n",
       "      <td>0</td>\n",
       "      <td>0</td>\n",
       "      <td>0</td>\n",
       "      <td>0</td>\n",
       "      <td>1</td>\n",
       "      <td>0</td>\n",
       "      <td>0</td>\n",
       "      <td>0</td>\n",
       "      <td>571</td>\n",
       "      <td>0</td>\n",
       "    </tr>\n",
       "    <tr>\n",
       "      <th>158</th>\n",
       "      <td>32.720083</td>\n",
       "      <td>No</td>\n",
       "      <td>Q</td>\n",
       "      <td>7.750000</td>\n",
       "      <td>Henry, Miss. Delia</td>\n",
       "      <td>0</td>\n",
       "      <td>265</td>\n",
       "      <td>3</td>\n",
       "      <td>female</td>\n",
       "      <td>0</td>\n",
       "      <td>...</td>\n",
       "      <td>0</td>\n",
       "      <td>0</td>\n",
       "      <td>0</td>\n",
       "      <td>0</td>\n",
       "      <td>0</td>\n",
       "      <td>0</td>\n",
       "      <td>0</td>\n",
       "      <td>1</td>\n",
       "      <td>265</td>\n",
       "      <td>1</td>\n",
       "    </tr>\n",
       "    <tr>\n",
       "      <th>161</th>\n",
       "      <td>20.000000</td>\n",
       "      <td>No</td>\n",
       "      <td>C</td>\n",
       "      <td>7.229200</td>\n",
       "      <td>Barah, Mr. Hanna Assi</td>\n",
       "      <td>0</td>\n",
       "      <td>763</td>\n",
       "      <td>3</td>\n",
       "      <td>male</td>\n",
       "      <td>0</td>\n",
       "      <td>...</td>\n",
       "      <td>0</td>\n",
       "      <td>0</td>\n",
       "      <td>0</td>\n",
       "      <td>0</td>\n",
       "      <td>0</td>\n",
       "      <td>0</td>\n",
       "      <td>0</td>\n",
       "      <td>1</td>\n",
       "      <td>763</td>\n",
       "      <td>0</td>\n",
       "    </tr>\n",
       "    <tr>\n",
       "      <th>189</th>\n",
       "      <td>25.000000</td>\n",
       "      <td>No</td>\n",
       "      <td>S</td>\n",
       "      <td>15.000000</td>\n",
       "      <td>Christy, Miss. Julie Rachel</td>\n",
       "      <td>1</td>\n",
       "      <td>581</td>\n",
       "      <td>2</td>\n",
       "      <td>female</td>\n",
       "      <td>1</td>\n",
       "      <td>...</td>\n",
       "      <td>0</td>\n",
       "      <td>0</td>\n",
       "      <td>0</td>\n",
       "      <td>0</td>\n",
       "      <td>0</td>\n",
       "      <td>0</td>\n",
       "      <td>0</td>\n",
       "      <td>1</td>\n",
       "      <td>581</td>\n",
       "      <td>0</td>\n",
       "    </tr>\n",
       "    <tr>\n",
       "      <th>198</th>\n",
       "      <td>34.000000</td>\n",
       "      <td>No</td>\n",
       "      <td>S</td>\n",
       "      <td>26.550000</td>\n",
       "      <td>Seward, Mr. Frederic Kimber</td>\n",
       "      <td>0</td>\n",
       "      <td>448</td>\n",
       "      <td>1</td>\n",
       "      <td>male</td>\n",
       "      <td>0</td>\n",
       "      <td>...</td>\n",
       "      <td>0</td>\n",
       "      <td>0</td>\n",
       "      <td>0</td>\n",
       "      <td>0</td>\n",
       "      <td>0</td>\n",
       "      <td>0</td>\n",
       "      <td>0</td>\n",
       "      <td>1</td>\n",
       "      <td>448</td>\n",
       "      <td>0</td>\n",
       "    </tr>\n",
       "    <tr>\n",
       "      <th>200</th>\n",
       "      <td>18.000000</td>\n",
       "      <td>No</td>\n",
       "      <td>S</td>\n",
       "      <td>8.050000</td>\n",
       "      <td>Cohen, Mr. Gurshon \"Gus\"</td>\n",
       "      <td>0</td>\n",
       "      <td>205</td>\n",
       "      <td>3</td>\n",
       "      <td>male</td>\n",
       "      <td>0</td>\n",
       "      <td>...</td>\n",
       "      <td>0</td>\n",
       "      <td>0</td>\n",
       "      <td>0</td>\n",
       "      <td>0</td>\n",
       "      <td>0</td>\n",
       "      <td>0</td>\n",
       "      <td>0</td>\n",
       "      <td>0</td>\n",
       "      <td>205</td>\n",
       "      <td>0</td>\n",
       "    </tr>\n",
       "    <tr>\n",
       "      <th>204</th>\n",
       "      <td>19.000000</td>\n",
       "      <td>No</td>\n",
       "      <td>S</td>\n",
       "      <td>8.050000</td>\n",
       "      <td>Dorking, Mr. Edward Arthur</td>\n",
       "      <td>0</td>\n",
       "      <td>284</td>\n",
       "      <td>3</td>\n",
       "      <td>male</td>\n",
       "      <td>0</td>\n",
       "      <td>...</td>\n",
       "      <td>0</td>\n",
       "      <td>0</td>\n",
       "      <td>0</td>\n",
       "      <td>0</td>\n",
       "      <td>0</td>\n",
       "      <td>0</td>\n",
       "      <td>0</td>\n",
       "      <td>0</td>\n",
       "      <td>284</td>\n",
       "      <td>0</td>\n",
       "    </tr>\n",
       "    <tr>\n",
       "      <th>217</th>\n",
       "      <td>1.000000</td>\n",
       "      <td>No</td>\n",
       "      <td>S</td>\n",
       "      <td>5.143750</td>\n",
       "      <td>Dean, Master. Bertram Vere</td>\n",
       "      <td>2</td>\n",
       "      <td>789</td>\n",
       "      <td>3</td>\n",
       "      <td>male</td>\n",
       "      <td>1</td>\n",
       "      <td>...</td>\n",
       "      <td>0</td>\n",
       "      <td>0</td>\n",
       "      <td>0</td>\n",
       "      <td>0</td>\n",
       "      <td>0</td>\n",
       "      <td>0</td>\n",
       "      <td>0</td>\n",
       "      <td>0</td>\n",
       "      <td>789</td>\n",
       "      <td>0</td>\n",
       "    </tr>\n",
       "    <tr>\n",
       "      <th>221</th>\n",
       "      <td>21.000000</td>\n",
       "      <td>Yes</td>\n",
       "      <td>C</td>\n",
       "      <td>37.482143</td>\n",
       "      <td>Ryerson, Miss. Susan Parker \"Suzette\"</td>\n",
       "      <td>2</td>\n",
       "      <td>743</td>\n",
       "      <td>1</td>\n",
       "      <td>female</td>\n",
       "      <td>2</td>\n",
       "      <td>...</td>\n",
       "      <td>0</td>\n",
       "      <td>0</td>\n",
       "      <td>0</td>\n",
       "      <td>0</td>\n",
       "      <td>0</td>\n",
       "      <td>0</td>\n",
       "      <td>0</td>\n",
       "      <td>0</td>\n",
       "      <td>743</td>\n",
       "      <td>0</td>\n",
       "    </tr>\n",
       "    <tr>\n",
       "      <th>224</th>\n",
       "      <td>17.000000</td>\n",
       "      <td>No</td>\n",
       "      <td>S</td>\n",
       "      <td>7.925000</td>\n",
       "      <td>Andersson, Miss. Erna Alexandra</td>\n",
       "      <td>2</td>\n",
       "      <td>69</td>\n",
       "      <td>3</td>\n",
       "      <td>female</td>\n",
       "      <td>4</td>\n",
       "      <td>...</td>\n",
       "      <td>0</td>\n",
       "      <td>0</td>\n",
       "      <td>0</td>\n",
       "      <td>0</td>\n",
       "      <td>0</td>\n",
       "      <td>0</td>\n",
       "      <td>0</td>\n",
       "      <td>1</td>\n",
       "      <td>69</td>\n",
       "      <td>0</td>\n",
       "    </tr>\n",
       "    <tr>\n",
       "      <th>228</th>\n",
       "      <td>25.000000</td>\n",
       "      <td>No</td>\n",
       "      <td>S</td>\n",
       "      <td>0.000000</td>\n",
       "      <td>Tornquist, Mr. William Henry</td>\n",
       "      <td>0</td>\n",
       "      <td>272</td>\n",
       "      <td>3</td>\n",
       "      <td>male</td>\n",
       "      <td>0</td>\n",
       "      <td>...</td>\n",
       "      <td>0</td>\n",
       "      <td>0</td>\n",
       "      <td>0</td>\n",
       "      <td>0</td>\n",
       "      <td>0</td>\n",
       "      <td>0</td>\n",
       "      <td>0</td>\n",
       "      <td>0</td>\n",
       "      <td>272</td>\n",
       "      <td>0</td>\n",
       "    </tr>\n",
       "    <tr>\n",
       "      <th>231</th>\n",
       "      <td>24.000000</td>\n",
       "      <td>No</td>\n",
       "      <td>S</td>\n",
       "      <td>13.000000</td>\n",
       "      <td>Herman, Miss. Alice</td>\n",
       "      <td>2</td>\n",
       "      <td>616</td>\n",
       "      <td>2</td>\n",
       "      <td>female</td>\n",
       "      <td>1</td>\n",
       "      <td>...</td>\n",
       "      <td>0</td>\n",
       "      <td>0</td>\n",
       "      <td>0</td>\n",
       "      <td>0</td>\n",
       "      <td>0</td>\n",
       "      <td>0</td>\n",
       "      <td>0</td>\n",
       "      <td>1</td>\n",
       "      <td>616</td>\n",
       "      <td>0</td>\n",
       "    </tr>\n",
       "    <tr>\n",
       "      <th>233</th>\n",
       "      <td>22.000000</td>\n",
       "      <td>No</td>\n",
       "      <td>S</td>\n",
       "      <td>10.516700</td>\n",
       "      <td>Dahlberg, Miss. Gerda Ulrika</td>\n",
       "      <td>0</td>\n",
       "      <td>883</td>\n",
       "      <td>3</td>\n",
       "      <td>female</td>\n",
       "      <td>0</td>\n",
       "      <td>...</td>\n",
       "      <td>0</td>\n",
       "      <td>0</td>\n",
       "      <td>0</td>\n",
       "      <td>0</td>\n",
       "      <td>0</td>\n",
       "      <td>0</td>\n",
       "      <td>0</td>\n",
       "      <td>1</td>\n",
       "      <td>883</td>\n",
       "      <td>1</td>\n",
       "    </tr>\n",
       "    <tr>\n",
       "      <th>246</th>\n",
       "      <td>22.758089</td>\n",
       "      <td>No</td>\n",
       "      <td>Q</td>\n",
       "      <td>8.137500</td>\n",
       "      <td>Peters, Miss. Katie</td>\n",
       "      <td>0</td>\n",
       "      <td>681</td>\n",
       "      <td>3</td>\n",
       "      <td>female</td>\n",
       "      <td>0</td>\n",
       "      <td>...</td>\n",
       "      <td>0</td>\n",
       "      <td>0</td>\n",
       "      <td>0</td>\n",
       "      <td>0</td>\n",
       "      <td>0</td>\n",
       "      <td>0</td>\n",
       "      <td>0</td>\n",
       "      <td>1</td>\n",
       "      <td>681</td>\n",
       "      <td>1</td>\n",
       "    </tr>\n",
       "    <tr>\n",
       "      <th>252</th>\n",
       "      <td>49.000000</td>\n",
       "      <td>Yes</td>\n",
       "      <td>C</td>\n",
       "      <td>27.720825</td>\n",
       "      <td>Thayer, Mr. John Borland</td>\n",
       "      <td>1</td>\n",
       "      <td>699</td>\n",
       "      <td>1</td>\n",
       "      <td>male</td>\n",
       "      <td>1</td>\n",
       "      <td>...</td>\n",
       "      <td>0</td>\n",
       "      <td>0</td>\n",
       "      <td>0</td>\n",
       "      <td>0</td>\n",
       "      <td>0</td>\n",
       "      <td>0</td>\n",
       "      <td>0</td>\n",
       "      <td>1</td>\n",
       "      <td>699</td>\n",
       "      <td>1</td>\n",
       "    </tr>\n",
       "    <tr>\n",
       "      <th>257</th>\n",
       "      <td>45.000000</td>\n",
       "      <td>No</td>\n",
       "      <td>S</td>\n",
       "      <td>8.050000</td>\n",
       "      <td>Dahl, Mr. Karl Edwart</td>\n",
       "      <td>0</td>\n",
       "      <td>339</td>\n",
       "      <td>3</td>\n",
       "      <td>male</td>\n",
       "      <td>0</td>\n",
       "      <td>...</td>\n",
       "      <td>0</td>\n",
       "      <td>0</td>\n",
       "      <td>0</td>\n",
       "      <td>0</td>\n",
       "      <td>0</td>\n",
       "      <td>0</td>\n",
       "      <td>0</td>\n",
       "      <td>1</td>\n",
       "      <td>339</td>\n",
       "      <td>0</td>\n",
       "    </tr>\n",
       "  </tbody>\n",
       "</table>\n",
       "<p>40 rows × 83 columns</p>\n",
       "</div>"
      ],
      "text/plain": [
       "           Age Cabin Embarked       Fare  \\\n",
       "5    41.299781   Yes        S  30.500000   \n",
       "11   40.000000    No        S  13.000000   \n",
       "15   14.000000    No        S   7.854200   \n",
       "24   22.000000    No        S   9.837500   \n",
       "33   42.986540   Yes        S  35.500000   \n",
       "35   32.000000   Yes        C  30.500000   \n",
       "47   18.000000   Yes        C  37.482143   \n",
       "50   38.314627   Yes        S  30.000000   \n",
       "52    4.000000    No        S   7.666667   \n",
       "54   46.966304   Yes        C  29.700000   \n",
       "59   33.309902    No        Q   7.750000   \n",
       "67   28.000000    No        S  11.000000   \n",
       "77   40.000000    No        C  27.720800   \n",
       "82   26.000000    No        S  13.000000   \n",
       "99   27.000000   Yes        C  25.576400   \n",
       "101  54.000000    No        S  13.000000   \n",
       "104  29.000000   Yes        S   5.231250   \n",
       "112  32.000000    No        S   7.061975   \n",
       "113  29.461271    No        S   8.050000   \n",
       "120  29.678423    No        S   7.061975   \n",
       "130  21.000000    No        Q   7.750000   \n",
       "143  18.000000    No        Q   6.750000   \n",
       "145  24.000000    No        S   8.850000   \n",
       "152  37.000000    No        S   9.587500   \n",
       "157  62.000000    No        S  10.500000   \n",
       "158  32.720083    No        Q   7.750000   \n",
       "161  20.000000    No        C   7.229200   \n",
       "189  25.000000    No        S  15.000000   \n",
       "198  34.000000    No        S  26.550000   \n",
       "200  18.000000    No        S   8.050000   \n",
       "204  19.000000    No        S   8.050000   \n",
       "217   1.000000    No        S   5.143750   \n",
       "221  21.000000   Yes        C  37.482143   \n",
       "224  17.000000    No        S   7.925000   \n",
       "228  25.000000    No        S   0.000000   \n",
       "231  24.000000    No        S  13.000000   \n",
       "233  22.000000    No        S  10.516700   \n",
       "246  22.758089    No        Q   8.137500   \n",
       "252  49.000000   Yes        C  27.720825   \n",
       "257  45.000000    No        S   8.050000   \n",
       "\n",
       "                                           Name  Parch PassengerId  Pclass  \\\n",
       "5                         Saalfeld, Mr. Adolphe      0         299       1   \n",
       "11                    Smith, Miss. Marion Elsie      0         347       2   \n",
       "15         Vestrom, Miss. Hulda Amanda Adolfina      0          15       3   \n",
       "24                  Strandberg, Miss. Ida Sofia      0         475       3   \n",
       "33                            Woolner, Mr. Hugh      0          56       1   \n",
       "35                    Stahelin-Maeglin, Dr. Max      0         633       1   \n",
       "47                   Ryerson, Miss. Emily Borie      2         312       1   \n",
       "50                  Hawksford, Mr. Walter James      0         741       1   \n",
       "52                            Wells, Miss. Joan      1         751       2   \n",
       "54                         Marechal, Mr. Pierre      0         840       1   \n",
       "59                           McCoy, Mr. Bernard      0         302       3   \n",
       "67                            Harper, Rev. John      1         849       2   \n",
       "77                     Uruchurtu, Don. Manuel E      0          31       1   \n",
       "82        Lahtinen, Mrs. William (Anna Sylfven)      1         313       2   \n",
       "99                           Hassab, Mr. Hammad      0         682       1   \n",
       "101               Carter, Rev. Ernest Courtenay      0         250       2   \n",
       "104  Strom, Mrs. Wilhelm (Elna Matilda Persson)      1         252       3   \n",
       "112                             Chip, Mr. Chang      0         839       3   \n",
       "113              Meanwell, Miss. (Marion Ogden)      0         565       3   \n",
       "120                             Foo, Mr. Choong      0         644       3   \n",
       "130                         Canavan, Miss. Mary      0         502       3   \n",
       "143                Hegarty, Miss. Hanora \"Nora\"      0         655       3   \n",
       "145                         Haas, Miss. Aloisia      0         294       3   \n",
       "152              Laitinen, Miss. Kristina Sofia      0         504       3   \n",
       "157                          Harris, Mr. George      0         571       2   \n",
       "158                          Henry, Miss. Delia      0         265       3   \n",
       "161                       Barah, Mr. Hanna Assi      0         763       3   \n",
       "189                 Christy, Miss. Julie Rachel      1         581       2   \n",
       "198                 Seward, Mr. Frederic Kimber      0         448       1   \n",
       "200                    Cohen, Mr. Gurshon \"Gus\"      0         205       3   \n",
       "204                  Dorking, Mr. Edward Arthur      0         284       3   \n",
       "217                  Dean, Master. Bertram Vere      2         789       3   \n",
       "221       Ryerson, Miss. Susan Parker \"Suzette\"      2         743       1   \n",
       "224             Andersson, Miss. Erna Alexandra      2          69       3   \n",
       "228                Tornquist, Mr. William Henry      0         272       3   \n",
       "231                         Herman, Miss. Alice      2         616       2   \n",
       "233                Dahlberg, Miss. Gerda Ulrika      0         883       3   \n",
       "246                         Peters, Miss. Katie      0         681       3   \n",
       "252                    Thayer, Mr. John Borland      1         699       1   \n",
       "257                       Dahl, Mr. Karl Edwart      0         339       3   \n",
       "\n",
       "        Sex  SibSp     ...       Ticket_SP Ticket_STONO  Ticket_STONO2  \\\n",
       "5      male      0     ...               0            0              0   \n",
       "11   female      0     ...               0            0              0   \n",
       "15   female      0     ...               0            0              0   \n",
       "24   female      0     ...               0            0              0   \n",
       "33     male      0     ...               0            0              0   \n",
       "35     male      0     ...               0            0              0   \n",
       "47   female      2     ...               0            0              0   \n",
       "50     male      0     ...               0            0              0   \n",
       "52   female      1     ...               0            0              0   \n",
       "54     male      0     ...               0            0              0   \n",
       "59     male      2     ...               0            0              0   \n",
       "67     male      0     ...               0            0              0   \n",
       "77     male      0     ...               0            0              0   \n",
       "82   female      1     ...               0            0              0   \n",
       "99     male      0     ...               0            0              0   \n",
       "101    male      1     ...               0            0              0   \n",
       "104  female      1     ...               0            0              0   \n",
       "112    male      0     ...               0            0              0   \n",
       "113  female      0     ...               0            0              0   \n",
       "120    male      0     ...               0            0              0   \n",
       "130  female      0     ...               0            0              0   \n",
       "143  female      0     ...               0            0              0   \n",
       "145  female      0     ...               0            0              0   \n",
       "152  female      0     ...               0            0              0   \n",
       "157    male      0     ...               0            0              0   \n",
       "158  female      0     ...               0            0              0   \n",
       "161    male      0     ...               0            0              0   \n",
       "189  female      1     ...               0            0              0   \n",
       "198    male      0     ...               0            0              0   \n",
       "200    male      0     ...               0            0              0   \n",
       "204    male      0     ...               0            0              0   \n",
       "217    male      1     ...               0            0              0   \n",
       "221  female      2     ...               0            0              0   \n",
       "224  female      4     ...               0            0              0   \n",
       "228    male      0     ...               0            0              0   \n",
       "231  female      1     ...               0            0              0   \n",
       "233  female      0     ...               0            0              0   \n",
       "246  female      0     ...               0            0              0   \n",
       "252    male      1     ...               0            0              0   \n",
       "257    male      0     ...               0            0              0   \n",
       "\n",
       "     Ticket_STONOQ Ticket_SWPP Ticket_WC  Ticket_WEP  Ticket_XXX PassengerId  \\\n",
       "5                0           0         0           0           1         299   \n",
       "11               0           0         0           0           1         347   \n",
       "15               0           0         0           0           1          15   \n",
       "24               0           0         0           0           1         475   \n",
       "33               0           0         0           0           1          56   \n",
       "35               0           0         0           0           1         633   \n",
       "47               0           0         0           0           0         312   \n",
       "50               0           0         0           0           1         741   \n",
       "52               0           0         0           0           1         751   \n",
       "54               0           0         0           0           1         840   \n",
       "59               0           0         0           0           1         302   \n",
       "67               0           0         0           0           1         849   \n",
       "77               0           0         0           0           0          31   \n",
       "82               0           0         0           0           1         313   \n",
       "99               0           0         0           0           0         682   \n",
       "101              0           0         0           0           1         250   \n",
       "104              0           0         0           0           1         252   \n",
       "112              0           0         0           0           1         839   \n",
       "113              0           0         0           0           0         565   \n",
       "120              0           0         0           0           1         644   \n",
       "130              0           0         0           0           1         502   \n",
       "143              0           0         0           0           1         655   \n",
       "145              0           0         0           0           1         294   \n",
       "152              0           0         0           0           1         504   \n",
       "157              0           1         0           0           0         571   \n",
       "158              0           0         0           0           1         265   \n",
       "161              0           0         0           0           1         763   \n",
       "189              0           0         0           0           1         581   \n",
       "198              0           0         0           0           1         448   \n",
       "200              0           0         0           0           0         205   \n",
       "204              0           0         0           0           0         284   \n",
       "217              0           0         0           0           0         789   \n",
       "221              0           0         0           0           0         743   \n",
       "224              0           0         0           0           1          69   \n",
       "228              0           0         0           0           0         272   \n",
       "231              0           0         0           0           1         616   \n",
       "233              0           0         0           0           1         883   \n",
       "246              0           0         0           0           1         681   \n",
       "252              0           0         0           0           1         699   \n",
       "257              0           0         0           0           1         339   \n",
       "\n",
       "     SurvivedRlt  \n",
       "5              0  \n",
       "11             0  \n",
       "15             1  \n",
       "24             1  \n",
       "33             0  \n",
       "35             0  \n",
       "47             0  \n",
       "50             0  \n",
       "52             0  \n",
       "54             0  \n",
       "59             0  \n",
       "67             1  \n",
       "77             1  \n",
       "82             1  \n",
       "99             0  \n",
       "101            1  \n",
       "104            1  \n",
       "112            0  \n",
       "113            1  \n",
       "120            0  \n",
       "130            1  \n",
       "143            1  \n",
       "145            1  \n",
       "152            1  \n",
       "157            0  \n",
       "158            1  \n",
       "161            0  \n",
       "189            0  \n",
       "198            0  \n",
       "200            0  \n",
       "204            0  \n",
       "217            0  \n",
       "221            0  \n",
       "224            0  \n",
       "228            0  \n",
       "231            0  \n",
       "233            1  \n",
       "246            1  \n",
       "252            1  \n",
       "257            0  \n",
       "\n",
       "[40 rows x 83 columns]"
      ]
     },
     "execution_count": 56,
     "metadata": {},
     "output_type": "execute_result"
    }
   ],
   "source": [
    "#cross validation\n",
    "\n",
    "train_data = df_combine[ :891]\n",
    "cross_train,cross_test= train_test_split(train_data, test_size=0.3, random_state=0)\n",
    "\n",
    "cross_train_filter = cross_train.filter(regex=prop_regex)\n",
    "cross_test_filter = cross_test.filter(regex=prop_regex)\n",
    "\n",
    "y_cross_train = cross_train_filter['Survived'].values\n",
    "y_cross_test = cross_test_filter['Survived'].values\n",
    "\n",
    "cross_train_filter.drop(columns=['Survived'],inplace=True)\n",
    "cross_test_filter.drop(columns=['Survived'],inplace=True)\n",
    "X_cross_train = model.transform(cross_train_filter)\n",
    "X_cross_test = model.transform(cross_test_filter)\n",
    "\n",
    "clf_cross = LogisticRegression(C=1.0, penalty='l1', tol=1e-6)\n",
    "clf_cross.fit(X_cross_train, y_cross_train)\n",
    "predictions = clf_cross.predict(X_cross_test)\n",
    "\n",
    "result = pd.DataFrame({'PassengerId':cross_test['PassengerId'].as_matrix(), 'SurvivedRlt':predictions.astype(np.int32)})\n",
    "\n",
    "#Print bad cases\n",
    "all_test = pd.concat([cross_test.reset_index(drop=True),result.reset_index(drop=True)],axis=1)\n",
    "bad_cases = all_test.loc[all_test['Survived']!=all_test['SurvivedRlt'],:]\n",
    "bad_cases"
   ]
  },
  {
   "cell_type": "markdown",
   "metadata": {},
   "source": [
    "##### 6.Modeling##### "
   ]
  },
  {
   "cell_type": "code",
   "execution_count": 58,
   "metadata": {},
   "outputs": [],
   "source": [
    "y = train_Y.values\n",
    "X = recude_train"
   ]
  },
  {
   "cell_type": "code",
   "execution_count": 59,
   "metadata": {},
   "outputs": [
    {
     "name": "stdout",
     "output_type": "stream",
     "text": [
      "LR :0.852955112927023\n",
      "random_forest :0.8608466689365566\n",
      "GBDT :0.8820687209170355\n",
      "xgbGBDT :0.8708449665191239\n"
     ]
    }
   ],
   "source": [
    "logreg = LogisticRegression()\n",
    "random_forest = RandomForestClassifier(n_estimators=300,min_samples_leaf=4,class_weight={0:0.745,1:0.255})\n",
    "gbdt = GradientBoostingClassifier(n_estimators=500,learning_rate=0.03,max_depth=3)\n",
    "xgb = XGBClassifier(max_depth=3, n_estimators=300, learning_rate=0.03)\n",
    "clfs = [logreg, random_forest, gbdt, xgb]\n",
    "ename = [\"LR\",\"random_forest\",\"GBDT\",\"xgbGBDT\"]\n",
    "\n",
    "y_cross = train_Y.values\n",
    "X_cross = recude_train\n",
    "\n",
    "cv_results = []\n",
    "for classifier in clfs :\n",
    "    cv_results.append(cross_val_score(classifier, X_cross, y =y_cross, scoring = \"accuracy\", cv = 10, n_jobs=4))\n",
    "\n",
    "for i in range(0,len(cv_results)):\n",
    "    print(\"{0} :{1}\".format(ename[i],cv_results[i].mean()))\n",
    "#     clfs[i].fit(X,y)\n",
    "#     coef=pd.DataFrame({\"columns\":list(train_X.columns), \"coef\":list(clfs[i].coef_[0].T)}) \n",
    "#     coef.sort_values(by='coef', ascending=False)\n",
    "#     print(coef)"
   ]
  },
  {
   "cell_type": "code",
   "execution_count": 60,
   "metadata": {},
   "outputs": [],
   "source": [
    "from sklearn.metrics import precision_score\n",
    "\n",
    "class Bagging(object):\n",
    "    \n",
    "    def __init__(self,estimators):\n",
    "        self.estimator_names = []\n",
    "        self.estimators = []\n",
    "        for i in estimators:\n",
    "            self.estimator_names.append(i[0])\n",
    "            self.estimators.append(i[1])\n",
    "        self.clf = LogisticRegression()\n",
    "    \n",
    "    def fit(self, train_x, train_y):\n",
    "        for i in self.estimators:\n",
    "            i.fit(train_x,train_y)\n",
    "        x = np.array([i.predict(train_x) for i in self.estimators]).T\n",
    "        y = train_y\n",
    "        self.clf.fit(x, y)\n",
    "    \n",
    "    def predict(self,x):\n",
    "        x = np.array([i.predict(x) for i in self.estimators]).T\n",
    "        #print(x)\n",
    "        return self.clf.predict(x)\n",
    "        \n",
    "    \n",
    "    def score(self,x,y):\n",
    "        s = precision_score(y,self.predict(x))\n",
    "        #print(s)\n",
    "        return s"
   ]
  },
  {
   "cell_type": "code",
   "execution_count": 61,
   "metadata": {},
   "outputs": [],
   "source": [
    "clfs = [logreg, random_forest, gbdt, xgb]\n",
    "\n",
    "bag = Bagging([('lr',logreg),(\"rm\", random_forest),('gbdt',gbdt), ('xgb',xgb)])\n",
    "bag.fit(X, y)\n",
    "\n",
    "predictions = bag.predict(recude_test).astype(int)\n",
    "result = pd.DataFrame({'PassengerId':df_test['PassengerId'].as_matrix(), 'Survived':predictions.astype(np.int32)})\n",
    "result.to_csv(\"../data/bg_predictions.csv\", index=False)"
   ]
  },
  {
   "cell_type": "code",
   "execution_count": 62,
   "metadata": {
    "scrolled": false
   },
   "outputs": [],
   "source": [
    "#LogisticRegression\n",
    "# clf = LogisticRegression(C=1.0, penalty='l1', tol=1e-6)\n",
    "\n",
    "# clf.fit(X, y)\n",
    "\n",
    "# predictions = clf.predict(recude_test)\n",
    "# result = pd.DataFrame({'PassengerId':df_test['PassengerId'].as_matrix(), 'Survived':predictions.astype(np.int32)})\n",
    "# result.to_csv(\"../data/lr_predictions.csv\", index=False)"
   ]
  },
  {
   "cell_type": "code",
   "execution_count": 63,
   "metadata": {
    "scrolled": true
   },
   "outputs": [],
   "source": [
    "# coef=pd.DataFrame({\"columns\":list(train_X.drop(columns=['Survived']).columns), \"coef\":list(clf.coef_[0].T)})\n",
    "\n",
    "# coef=pd.DataFrame({\"columns\":list(train_X.columns), \"coef\":list(clf.coef_[0].T)})\n",
    "# coef.sort_values(by='coef', ascending=False)"
   ]
  },
  {
   "cell_type": "code",
   "execution_count": 64,
   "metadata": {},
   "outputs": [],
   "source": [
    "# #XGBClassifier\n",
    "# xgc=XGBClassifier()\n",
    "# xgc_param = {\n",
    "#     'n_estimators': range(30, 300, 50),\n",
    "#     'max_depth': range(2, 7, 1),\n",
    "#     'learning_rate': [0.03]\n",
    "# }\n",
    "\n",
    "# # xgb = XGBClassifier(max_depth=3, n_estimators=300, learning_rate=0.03)\n",
    "\n",
    "# gc=GridSearchCV(xgc,param_grid=xgc_param,cv=5)\n",
    "# gc.fit(X,y)\n",
    "\n",
    "# y_cross = train_Y.values\n",
    "# X_cross = recude_train\n",
    "\n",
    "# cross_rlt = cross_validation.cross_val_score(gc, X_cross, y_cross, cv=5)\n",
    "# print(cross_rlt)\n",
    "# print(cross_rlt.mean())\n",
    "\n",
    "# predictions=gc.predict(recude_test)\n",
    "# print(gc.score(X,y))\n",
    "# print(gc.best_score_)\n",
    "# # print(gc.best_estimator_)\n",
    "\n",
    "# result = pd.DataFrame({'PassengerId':df_test['PassengerId'].as_matrix(), 'Survived':predictions.astype(np.int32)})\n",
    "# result.to_csv(\"../data/xgc_predictions.csv\", index=False)"
   ]
  },
  {
   "cell_type": "code",
   "execution_count": 65,
   "metadata": {},
   "outputs": [],
   "source": [
    "# xgb = XGBClassifier(max_depth=3, n_estimators=300, learning_rate=0.03)\n",
    "# xgb.fit(X,y)\n",
    "\n",
    "# predictions=xgb.predict(recude_test)\n",
    "# result = pd.DataFrame({'PassengerId':df_test['PassengerId'].as_matrix(), 'Survived':predictions.astype(np.int32)})\n",
    "# result.to_csv(\"../data/xgc_predictions.csv\", index=False)"
   ]
  },
  {
   "cell_type": "code",
   "execution_count": 66,
   "metadata": {},
   "outputs": [],
   "source": [
    "# gboost = GradientBoostingClassifier()\n",
    "# y_cross = train_Y.values\n",
    "# X_cross = recude_train\n",
    "\n",
    "# cross_rlt = cross_validation.cross_val_score(gboost, X_cross, y_cross, cv=5)\n",
    "# print(cross_rlt)\n",
    "# print(cross_rlt.mean())\n",
    "\n",
    "# gboost = GradientBoostingClassifier()\n",
    "# gboost.fit(X,y)\n",
    "\n",
    "# recude_test = model.transform(test_X)\n",
    "# predictions = gboost.predict(recude_test)\n",
    "\n",
    "# result = pd.DataFrame({'PassengerId':df_test['PassengerId'].as_matrix(), 'Survived':predictions.astype(np.int32)})\n",
    "# result.to_csv(\"../data/gboost_predictions.csv\", index=False)"
   ]
  }
 ],
 "metadata": {
  "kernelspec": {
   "display_name": "Python [conda env:root] *",
   "language": "python",
   "name": "conda-root-py"
  },
  "language_info": {
   "codemirror_mode": {
    "name": "ipython",
    "version": 3
   },
   "file_extension": ".py",
   "mimetype": "text/x-python",
   "name": "python",
   "nbconvert_exporter": "python",
   "pygments_lexer": "ipython3",
   "version": "3.6.9"
  }
 },
 "nbformat": 4,
 "nbformat_minor": 2
}
