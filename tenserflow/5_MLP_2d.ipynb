{
 "cells": [
  {
   "cell_type": "code",
   "execution_count": 1,
   "metadata": {},
   "outputs": [],
   "source": [
    "import tensorflow as tf\n",
    "import numpy as np"
   ]
  },
  {
   "cell_type": "code",
   "execution_count": 2,
   "metadata": {},
   "outputs": [],
   "source": [
    "sess = tf.Session()\n",
    "\n",
    "data_size =[10,10]\n",
    "data_2d = np.random.normal(size=data_size)\n",
    "x_input_2d = tf.placeholder(dtype=tf.float32, shape=data_size)"
   ]
  },
  {
   "cell_type": "code",
   "execution_count": 3,
   "metadata": {},
   "outputs": [
    {
     "name": "stdout",
     "output_type": "stream",
     "text": [
      "Tensor(\"ExpandDims:0\", shape=(1, 10, 10), dtype=float32)\n",
      "Tensor(\"ExpandDims_1:0\", shape=(1, 10, 10, 1), dtype=float32)\n",
      "Tensor(\"Squeeze:0\", shape=(5, 5), dtype=float32)\n"
     ]
    }
   ],
   "source": [
    "def conv_layer_2d(input_2d, my_fliter):\n",
    "    #change 2d input to 4d\n",
    "    input_3d = tf.expand_dims(input_2d, 0)\n",
    "    print(input_3d)\n",
    "    input_4d = tf.expand_dims(input_3d, 3)\n",
    "    print(input_4d)\n",
    "\n",
    "    #  input_1: an input tensor of shape [batch, in_height, in_width, in_channels]\n",
    "    #  fliter_2:  a filter / kernel tensor of shape [filter_height, filter_width, in_channels, out_channels]\n",
    "    # stride_3: Must have strides[0] = strides[3] = 1. For the most common case of the same horizontal and vertices strides, strides = [1, stride, stride, 1].\n",
    "    convolution_output = tf.nn.conv2d(input_4d, filter=my_fliter, strides=[1,2,2,1], padding=\"VALID\")\n",
    "    # drop extra dimensions\n",
    "    conv_output_2d = tf.squeeze(convolution_output)\n",
    "    print(conv_output_2d)\n",
    "    return (conv_output_2d)\n",
    "\n",
    "\n",
    "my_fliter = tf.Variable(tf.random_normal(shape=[2,2,1,1]))\n",
    "my_convolution_output = conv_layer_2d(x_input_2d, my_fliter)"
   ]
  },
  {
   "cell_type": "code",
   "execution_count": 4,
   "metadata": {},
   "outputs": [
    {
     "name": "stdout",
     "output_type": "stream",
     "text": [
      "Tensor(\"Relu:0\", shape=(5, 5), dtype=float32)\n"
     ]
    }
   ],
   "source": [
    "def activation(input_2d):\n",
    "    relurlt =tf.nn.relu(input_2d)\n",
    "    print(relurlt)\n",
    "    return relurlt\n",
    "\n",
    "my_activation_output = activation(my_convolution_output)"
   ]
  },
  {
   "cell_type": "code",
   "execution_count": 5,
   "metadata": {},
   "outputs": [
    {
     "name": "stdout",
     "output_type": "stream",
     "text": [
      "Tensor(\"ExpandDims_2:0\", shape=(1, 5, 5), dtype=float32)\n",
      "Tensor(\"ExpandDims_3:0\", shape=(1, 5, 5, 1), dtype=float32)\n",
      "Tensor(\"MaxPool:0\", shape=(1, 4, 4, 1), dtype=float32)\n",
      "Tensor(\"Squeeze_1:0\", shape=(4, 4), dtype=float32)\n"
     ]
    }
   ],
   "source": [
    "def max_pool(input_2d, width,height):\n",
    "    input_3d = tf.expand_dims(input_2d, 0)\n",
    "    input_4d = tf.expand_dims(input_3d, 3)\n",
    "    print(input_3d)\n",
    "    print(input_4d)\n",
    "    \n",
    "    pool_output = tf.nn.max_pool(input_4d, ksize=[1, height, width, 1], strides=[1,1,1,1], padding=\"VALID\")\n",
    "    print(pool_output)\n",
    "    pool_output_2d = tf.squeeze(pool_output)\n",
    "    print(pool_output_2d)\n",
    "    return(pool_output_2d)\n",
    "\n",
    "my_max_output = max_pool(my_activation_output, width=2, height=2)"
   ]
  },
  {
   "cell_type": "code",
   "execution_count": 6,
   "metadata": {},
   "outputs": [
    {
     "name": "stdout",
     "output_type": "stream",
     "text": [
      "Tensor(\"Reshape:0\", shape=(16,), dtype=float32)\n"
     ]
    }
   ],
   "source": [
    "def fully_connected(input_layer, num_outputs):\n",
    "    flatten_input = tf.reshape(input_layer, [-1])\n",
    "    print(flatten_input)\n",
    "    weight_shape= tf.squeeze(tf.stack([tf.shape(flatten_input), [num_outputs]]))\n",
    "    weight = tf.random_normal(weight_shape, stddev=0.1)\n",
    "    bias = tf.random_normal(shape=[num_outputs])\n",
    "    \n",
    "    input_2d = tf.expand_dims(flatten_input, 0)\n",
    "    full_output = tf.add(tf.matmul(input_2d, weight), bias)\n",
    "    \n",
    "    full_output_2d = tf.squeeze(full_output)\n",
    "    return(full_output_2d)\n",
    "\n",
    "my_full_output = fully_connected(my_max_output, 5)"
   ]
  },
  {
   "cell_type": "code",
   "execution_count": 7,
   "metadata": {},
   "outputs": [],
   "source": [
    "init = tf.global_variables_initializer()\n",
    "sess.run(init)\n",
    "\n",
    "feed_dict = {x_input_2d: data_2d}"
   ]
  },
  {
   "cell_type": "code",
   "execution_count": 8,
   "metadata": {},
   "outputs": [
    {
     "name": "stdout",
     "output_type": "stream",
     "text": [
      "Input = [10 X 10] array\n",
      "2x2 Convolution, stride size = [2x2], results in the [5x5] array:\n",
      "[[ 4.5575819  -0.6830005  -0.25743484  1.35964024 -2.23150539]\n",
      " [ 4.96601439 -0.20229781 -1.8142823  -3.97244406  0.72050661]\n",
      " [ 4.40277004  0.91883886  2.37902641 -2.75206614 -0.28397948]\n",
      " [-1.69307649  0.35923988  1.1325928  -0.96266013 -1.08061743]\n",
      " [-1.25605798 -2.90235901 -2.69128227  0.30081913  1.25056469]]\n",
      "Input = the above [5x5] array\n",
      "ReLU element wise returns the [5x5] array:\n",
      "[[ 4.5575819   0.          0.          1.35964024  0.        ]\n",
      " [ 4.96601439  0.          0.          0.          0.72050661]\n",
      " [ 4.40277004  0.91883886  2.37902641  0.          0.        ]\n",
      " [ 0.          0.35923988  1.1325928   0.          0.        ]\n",
      " [ 0.          0.          0.          0.30081913  1.25056469]]\n",
      "Input = the above [5x5] array\n",
      "MaxPool, stride size = [1x1], results in the [4x4] array:\n",
      "[[ 4.96601439  0.          1.35964024  1.35964024]\n",
      " [ 4.96601439  2.37902641  2.37902641  0.72050661]\n",
      " [ 4.40277004  2.37902641  2.37902641  0.        ]\n",
      " [ 0.35923988  1.1325928   1.1325928   1.25056469]]\n",
      "Input = the above [4x4] array\n",
      "Fully connected layer on all four rows with five outputs:\n",
      "[ 0.23460048 -0.84096485  0.92750013 -0.16202188  2.31000733]\n"
     ]
    }
   ],
   "source": [
    "# Convolution Output \n",
    "print('Input = [10 X 10] array') \n",
    "print('2x2 Convolution, stride size = [2x2], results in the [5x5] array:') \n",
    "print(sess.run(my_convolution_output, feed_dict=feed_dict)) \n",
    "# Activation Output \n",
    "print('Input = the above [5x5] array') \n",
    "print('ReLU element wise returns the [5x5] array:') \n",
    "print(sess.run(my_activation_output, feed_dict=feed_dict)) \n",
    "# Max Pool Output \n",
    "print('Input = the above [5x5] array') \n",
    "print('MaxPool, stride size = [1x1], results in the [4x4] array:') \n",
    "print(sess.run(my_max_output, feed_dict=feed_dict)) \n",
    "# Fully Connected Output \n",
    "print('Input = the above [4x4] array') \n",
    "print('Fully connected layer on all four rows with five outputs:') \n",
    "print(sess.run(my_full_output, feed_dict=feed_dict)) "
   ]
  }
 ],
 "metadata": {
  "kernelspec": {
   "display_name": "Python [conda env:root] *",
   "language": "python",
   "name": "conda-root-py"
  },
  "language_info": {
   "codemirror_mode": {
    "name": "ipython",
    "version": 3
   },
   "file_extension": ".py",
   "mimetype": "text/x-python",
   "name": "python",
   "nbconvert_exporter": "python",
   "pygments_lexer": "ipython3",
   "version": "3.6.9"
  }
 },
 "nbformat": 4,
 "nbformat_minor": 2
}
