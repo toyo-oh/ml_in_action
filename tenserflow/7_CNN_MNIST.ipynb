{
 "cells": [
  {
   "cell_type": "code",
   "execution_count": 1,
   "metadata": {},
   "outputs": [],
   "source": [
    "import matplotlib.pyplot as plt\n",
    "import numpy as np\n",
    "import tensorflow as tf\n",
    "from tensorflow.contrib.learn.python.learn.datasets.mnist import read_data_sets"
   ]
  },
  {
   "cell_type": "code",
   "execution_count": 2,
   "metadata": {},
   "outputs": [
    {
     "name": "stdout",
     "output_type": "stream",
     "text": [
      "Extracting temp/train-images-idx3-ubyte.gz\n",
      "Extracting temp/train-labels-idx1-ubyte.gz\n",
      "Extracting temp/t10k-images-idx3-ubyte.gz\n",
      "Extracting temp/t10k-labels-idx1-ubyte.gz\n"
     ]
    }
   ],
   "source": [
    "# load data\n",
    "data_dir = 'temp'\n",
    "mnist = read_data_sets(data_dir)"
   ]
  },
  {
   "cell_type": "code",
   "execution_count": 3,
   "metadata": {},
   "outputs": [
    {
     "name": "stdout",
     "output_type": "stream",
     "text": [
      "(55000, 784)\n",
      "(784,)\n"
     ]
    }
   ],
   "source": [
    "print(mnist.train.images.shape)\n",
    "print(mnist.train.images[0].shape)"
   ]
  },
  {
   "cell_type": "code",
   "execution_count": 4,
   "metadata": {},
   "outputs": [
    {
     "name": "stdout",
     "output_type": "stream",
     "text": [
      "(28, 28)\n"
     ]
    }
   ],
   "source": [
    "# train data & test data(28*28 =784)\n",
    "\n",
    "# np.reshape: Gives a new shape to an array without changing its data.\n",
    "# Parameters:\n",
    "# a : array_like  Array to be reshaped.\n",
    "# newshape : int or tuple of ints\n",
    "# order : {‘C’, ‘F’, ‘A’}, optional\n",
    "# Returns:reshaped_array : ndarray\n",
    "\n",
    "train_xdata = np.array([np.reshape(x, (28,28)) for x in mnist.train.images])\n",
    "test_xdata = np.array([np.reshape(x, (28,28)) for x in mnist.test.images])\n",
    "train_labels = mnist.train.labels\n",
    "test_labels = mnist.test.labels\n",
    "\n",
    "print( train_xdata[0].shape)"
   ]
  },
  {
   "cell_type": "markdown",
   "metadata": {},
   "source": [
    "### tf.nn.conv2d(卷积层) ###\n",
    "**Computes a 2-D convolution given 4-D input and filters tensors.**  \n",
    "**tf.nn.conv2d(input, filters, strides, padding, data_format='NHWC', dilations=None, name=None)**  \n",
    "**input**: A 4-D tensor. [batch, in_height, in_width, in_channels]  \n",
    "**filters**: A 4-D tensor of shape [filter_height, filter_width, in_channels, out_channels]  \n",
    "**strides**: Must have strides[0] = strides[3] = 1.   \n",
    "For the most common case of the same horizontal and vertices strides, strides = [1, stride, stride, 1].  \n",
    "**padding**: \"SAME\" or \"VALID\"   \n",
    "**data_format**: An optional string from: \"NHWC\", \"NCHW\". Defaults to \"NHWC\".   \n",
    "\n",
    "VALID，输出的形状为：$ new\\_height = new\\_width =\\lceil  \\frac{(W+2P–F)}{S} \\rceil+1  $   \n",
    "SAME，输出的形状为：$ new\\_height=new\\_width=\\lceil \\frac{ W } { S}\\rceil $   \n",
    "\n",
    "W为输入的size，P为Padding的宽度,F为filter的size，S为步长，⌈⌉为向上取整符号。"
   ]
  },
  {
   "cell_type": "markdown",
   "metadata": {},
   "source": [
    "### tf.nn.max_pool(池化层) ###\n",
    "**Performs the max pooling on the input.**  \n",
    "**tf.nn.max_pool(input, ksize, strides, padding, data_format=None, name=None)**  \n",
    "**input**: Tensor of rank N+2, of shape [batch_size] + input_spatial_shape + [num_channels] if data_format does not start with \"NC\" (default), or [batch_size, num_channels] + input_spatial_shape if data_format starts with \"NC\". Pooling happens over the spatial dimensions only.  \n",
    "**ksize**: An int or list of ints that has length 1, N or N+2. The size of the window for each dimension of the input tensor.  \n",
    "**strides**: An int or list of ints that has length 1, N or N+2. The stride of the sliding window for each dimension of the input tensor.  \n",
    "**padding**: A string, either 'VALID' or 'SAME'. The padding algorithm. See the \"returns\" section of tf.nn.convolution for details.  \n",
    "**data_format**: A string. Specifies the channel dimension. For N=1 it can be either \"NWC\" (default) or \"NCW\", for N=2 it can be either \"NHWC\" (default) or \"NCHW\" and for N=3 either \"NDHWC\" (default) or \"NCDHW\"."
   ]
  },
  {
   "cell_type": "code",
   "execution_count": 5,
   "metadata": {},
   "outputs": [],
   "source": [
    "#由于图像是灰度图，所以该图像的深度为1，颜色通道数为1\n",
    "\n",
    "batch_size = 100 #训练集一次批量的大小\n",
    "learning_rate = 0.005\n",
    "evaluation_size = 500 # 测试集大小\n",
    "image_width = train_xdata[0].shape[0]\n",
    "image_height = train_xdata[0].shape[1]\n",
    "#\n",
    "target_size = max(train_labels)+1\n",
    "num_channels = 1\n",
    "#迭代次数\n",
    "generations = 500\n",
    "\n",
    "conv1_features = 25\n",
    "conv2_features = 50\n",
    "max_pool_size1 = 2\n",
    "max_pool_size2 = 2\n",
    "fully_connected_size1 = 100"
   ]
  },
  {
   "cell_type": "code",
   "execution_count": 6,
   "metadata": {},
   "outputs": [],
   "source": [
    "#training input\n",
    "x_input_shape = (batch_size, image_height, image_width, num_channels)\n",
    "x_input = tf.placeholder(tf.float32, shape=x_input_shape)\n",
    "y_target = tf.placeholder(tf.int32, shape=(batch_size))\n",
    "\n",
    "#testing input\n",
    "eval_input_shape = (evaluation_size, image_height, image_width, num_channels)\n",
    "eval_input = tf.placeholder(tf.float32, shape=eval_input_shape)\n",
    "eval_target = tf.placeholder(tf.int32, shape=(evaluation_size))"
   ]
  },
  {
   "cell_type": "code",
   "execution_count": 7,
   "metadata": {},
   "outputs": [],
   "source": [
    "# tf.random.truncated_normal : Outputs random values from a truncated normal distribution.\n",
    "# tf.random.truncated_normal(shape, mean=0.0, stddev=1.0, dtype=tf.dtypes.float32, seed=None, name=None)\n",
    "\n",
    "#初始化 卷积核w 和 偏置项b \n",
    "conv1_w = tf.Variable(tf.truncated_normal(shape=[4,4,num_channels, conv1_features], stddev=0.1, dtype=tf.float32))\n",
    "conv1_b = tf.Variable(tf.zeros([conv1_features], dtype=tf.float32))\n",
    "\n",
    "conv2_w = tf.Variable(tf.truncated_normal(shape=[4,4,conv1_features, conv2_features], stddev=0.1, dtype=tf.float32))\n",
    "conv2_b = tf.Variable(tf.zeros([conv2_features], dtype=tf.float32))"
   ]
  },
  {
   "cell_type": "code",
   "execution_count": 8,
   "metadata": {},
   "outputs": [],
   "source": [
    "resulting_width = image_width//(max_pool_size1*max_pool_size2)\n",
    "resulting_height = image_height//(max_pool_size1*max_pool_size2)\n",
    "\n",
    "full_input_size = resulting_width * resulting_height * conv2_features\n",
    "full1_w = tf.Variable(tf.truncated_normal(shape=[full_input_size,fully_connected_size1], stddev=0.1, dtype= tf.float32))\n",
    "full1_b = tf.Variable(tf.truncated_normal(shape=[fully_connected_size1], stddev=0.1, dtype=tf.float32))\n",
    "\n",
    "full2_w = tf.Variable(tf.truncated_normal(shape=[fully_connected_size1,target_size], stddev=0.1, dtype= tf.float32))\n",
    "full2_b = tf.Variable(tf.truncated_normal(shape=[target_size], stddev=0.1, dtype=tf.float32))"
   ]
  },
  {
   "cell_type": "code",
   "execution_count": 9,
   "metadata": {},
   "outputs": [],
   "source": [
    "def my_conv_net(input_data):\n",
    "    #First Conv-ReLU-MaxPool Layer\n",
    "    conv1 = tf.nn.conv2d(input_data, conv1_w, strides=[1,1,1,1], padding='SAME')\n",
    "    print(\"conv1 shape:\"+str(conv1.get_shape()))\n",
    "    relu1 = tf.nn.relu(tf.nn.bias_add(conv1, conv1_b))\n",
    "    print(\"relu1 shape:\"+str(relu1.get_shape()))\n",
    "    max_pool1 = tf.nn.max_pool(relu1, ksize=[1, max_pool_size1, max_pool_size1, 1], strides=[1, max_pool_size1,max_pool_size1, 1], padding='SAME')\n",
    "    print(\"max_pool1 shape:\"+str(max_pool1.get_shape()))\n",
    "    \n",
    "    #Second Conv-ReLu-MaxPoolLayer \n",
    "    conv2 = tf.nn.conv2d(max_pool1, conv2_w, strides=[1,1,1,1], padding='SAME')\n",
    "    print(\"conv2 shape:\"+str(conv2.get_shape()))\n",
    "    relu2 = tf.nn.relu(tf.nn.bias_add(conv2, conv2_b))\n",
    "    print(\"relu2 shape:\"+str(relu2.get_shape()))\n",
    "    max_pool2 = tf.nn.max_pool(relu2, ksize=[1, max_pool_size2, max_pool_size2, 1], strides=[1, max_pool_size2,max_pool_size2, 1], padding='SAME')\n",
    "    print(\"max_pool2 shape:\"+str(max_pool2.get_shape()))\n",
    "    \n",
    "    # fully connected layer\n",
    "    final_conv_shape = max_pool2.get_shape().as_list()\n",
    "    final_shape = final_conv_shape[1]*final_conv_shape[2]*final_conv_shape[3]\n",
    "    flat_ouput = tf.reshape(max_pool2, [final_conv_shape[0],final_shape])\n",
    "    print(\"flat_ouput:\"+str(flat_ouput.get_shape()))\n",
    "    \n",
    "    fully_connected1 = tf.nn.relu(tf.add(tf.matmul(flat_ouput, full1_w), full1_b))\n",
    "    print(\"fully_connected1:\"+str(fully_connected1.get_shape()))\n",
    "    final_model_output = tf.nn.relu(tf.add(tf.matmul(fully_connected1, full2_w), full2_b))\n",
    "    print(\"final_model_output:\"+str(final_model_output.get_shape()))\n",
    "    return (final_model_output)\n",
    "    "
   ]
  },
  {
   "cell_type": "code",
   "execution_count": 10,
   "metadata": {},
   "outputs": [
    {
     "name": "stdout",
     "output_type": "stream",
     "text": [
      "conv1 shape:(100, 28, 28, 25)\n",
      "relu1 shape:(100, 28, 28, 25)\n",
      "max_pool1 shape:(100, 14, 14, 25)\n",
      "conv2 shape:(100, 14, 14, 50)\n",
      "relu2 shape:(100, 14, 14, 50)\n",
      "max_pool2 shape:(100, 7, 7, 50)\n",
      "flat_ouput:(100, 2450)\n",
      "fully_connected1:(100, 100)\n",
      "final_model_output:(100, 10)\n"
     ]
    }
   ],
   "source": [
    "model_output = my_conv_net(x_input)"
   ]
  },
  {
   "cell_type": "code",
   "execution_count": 11,
   "metadata": {},
   "outputs": [
    {
     "name": "stdout",
     "output_type": "stream",
     "text": [
      "conv1 shape:(500, 28, 28, 25)\n",
      "relu1 shape:(500, 28, 28, 25)\n",
      "max_pool1 shape:(500, 14, 14, 25)\n",
      "conv2 shape:(500, 14, 14, 50)\n",
      "relu2 shape:(500, 14, 14, 50)\n",
      "max_pool2 shape:(500, 7, 7, 50)\n",
      "flat_ouput:(500, 2450)\n",
      "fully_connected1:(500, 100)\n",
      "final_model_output:(500, 10)\n"
     ]
    }
   ],
   "source": [
    "test_model_output = my_conv_net(eval_input)"
   ]
  },
  {
   "cell_type": "code",
   "execution_count": 12,
   "metadata": {},
   "outputs": [],
   "source": [
    "# tf.nn.sparse_softmax_cross_entropy_with_logits\n",
    "# Computes sparse softmax cross entropy between logits and labels.\n",
    "\n",
    "# tf.nn.sparse_softmax_cross_entropy_with_logits(\n",
    "#     labels, logits, name=None\n",
    "# )\n",
    "\n",
    "loss = tf.reduce_mean(tf.nn.sparse_softmax_cross_entropy_with_logits(labels=y_target, logits=model_output))"
   ]
  },
  {
   "cell_type": "code",
   "execution_count": 13,
   "metadata": {},
   "outputs": [],
   "source": [
    "my_optimizer = tf.train.MomentumOptimizer(learning_rate, 0.9)\n",
    "train_step = my_optimizer.minimize(loss)"
   ]
  },
  {
   "cell_type": "code",
   "execution_count": 14,
   "metadata": {},
   "outputs": [],
   "source": [
    "prediction = tf.nn.softmax(model_output)\n",
    "test_prediction = tf.nn.softmax(test_model_output)"
   ]
  },
  {
   "cell_type": "code",
   "execution_count": 15,
   "metadata": {},
   "outputs": [],
   "source": [
    "def get_accuracy(logits, targets):\n",
    "    batch_predictons = np.argmax(logits, axis=1)\n",
    "    num_correct = np.sum(np.equal(batch_predictons, targets))\n",
    "    return (100. * num_correct/batch_predictons.shape[0])"
   ]
  },
  {
   "cell_type": "code",
   "execution_count": null,
   "metadata": {
    "scrolled": false
   },
   "outputs": [],
   "source": []
  },
  {
   "cell_type": "code",
   "execution_count": 16,
   "metadata": {},
   "outputs": [
    {
     "name": "stdout",
     "output_type": "stream",
     "text": [
      "Generation # 5. Train Loss: 2.32. Train Acc (Test Acc): 14.00 (18.40)\n",
      "Generation # 10. Train Loss: 2.23. Train Acc (Test Acc): 27.00 (25.80)\n",
      "Generation # 15. Train Loss: 2.18. Train Acc (Test Acc): 22.00 (21.20)\n",
      "Generation # 20. Train Loss: 2.06. Train Acc (Test Acc): 36.00 (28.00)\n",
      "Generation # 25. Train Loss: 2.10. Train Acc (Test Acc): 30.00 (31.80)\n",
      "Generation # 30. Train Loss: 1.98. Train Acc (Test Acc): 38.00 (36.20)\n",
      "Generation # 35. Train Loss: 2.09. Train Acc (Test Acc): 31.00 (37.20)\n",
      "Generation # 40. Train Loss: 1.82. Train Acc (Test Acc): 47.00 (46.60)\n",
      "Generation # 45. Train Loss: 1.79. Train Acc (Test Acc): 39.00 (43.60)\n",
      "Generation # 50. Train Loss: 1.56. Train Acc (Test Acc): 48.00 (42.20)\n",
      "Generation # 55. Train Loss: 1.80. Train Acc (Test Acc): 35.00 (49.60)\n",
      "Generation # 60. Train Loss: 1.65. Train Acc (Test Acc): 48.00 (44.20)\n",
      "Generation # 65. Train Loss: 1.65. Train Acc (Test Acc): 38.00 (43.40)\n",
      "Generation # 70. Train Loss: 1.63. Train Acc (Test Acc): 47.00 (45.80)\n",
      "Generation # 75. Train Loss: 1.51. Train Acc (Test Acc): 47.00 (51.20)\n",
      "Generation # 80. Train Loss: 1.59. Train Acc (Test Acc): 45.00 (51.60)\n",
      "Generation # 85. Train Loss: 1.45. Train Acc (Test Acc): 56.00 (48.80)\n",
      "Generation # 90. Train Loss: 1.33. Train Acc (Test Acc): 50.00 (52.00)\n",
      "Generation # 95. Train Loss: 1.33. Train Acc (Test Acc): 53.00 (52.60)\n",
      "Generation # 100. Train Loss: 1.39. Train Acc (Test Acc): 53.00 (55.20)\n",
      "Generation # 105. Train Loss: 1.39. Train Acc (Test Acc): 54.00 (54.00)\n",
      "Generation # 110. Train Loss: 1.41. Train Acc (Test Acc): 50.00 (54.20)\n",
      "Generation # 115. Train Loss: 1.31. Train Acc (Test Acc): 54.00 (49.40)\n",
      "Generation # 120. Train Loss: 1.56. Train Acc (Test Acc): 42.00 (54.00)\n",
      "Generation # 125. Train Loss: 1.25. Train Acc (Test Acc): 66.00 (55.20)\n",
      "Generation # 130. Train Loss: 1.34. Train Acc (Test Acc): 53.00 (57.80)\n",
      "Generation # 135. Train Loss: 1.47. Train Acc (Test Acc): 53.00 (56.60)\n",
      "Generation # 140. Train Loss: 1.33. Train Acc (Test Acc): 57.00 (53.80)\n",
      "Generation # 145. Train Loss: 1.43. Train Acc (Test Acc): 49.00 (52.80)\n",
      "Generation # 150. Train Loss: 1.21. Train Acc (Test Acc): 57.00 (56.80)\n",
      "Generation # 155. Train Loss: 1.16. Train Acc (Test Acc): 62.00 (57.60)\n",
      "Generation # 160. Train Loss: 1.28. Train Acc (Test Acc): 54.00 (52.80)\n",
      "Generation # 165. Train Loss: 1.14. Train Acc (Test Acc): 61.00 (60.60)\n",
      "Generation # 170. Train Loss: 1.15. Train Acc (Test Acc): 60.00 (56.60)\n",
      "Generation # 175. Train Loss: 1.24. Train Acc (Test Acc): 56.00 (62.00)\n",
      "Generation # 180. Train Loss: 1.25. Train Acc (Test Acc): 58.00 (55.00)\n",
      "Generation # 185. Train Loss: 1.34. Train Acc (Test Acc): 60.00 (61.00)\n",
      "Generation # 190. Train Loss: 1.07. Train Acc (Test Acc): 59.00 (58.00)\n",
      "Generation # 195. Train Loss: 1.13. Train Acc (Test Acc): 58.00 (59.60)\n",
      "Generation # 200. Train Loss: 1.17. Train Acc (Test Acc): 59.00 (61.20)\n",
      "Generation # 205. Train Loss: 0.98. Train Acc (Test Acc): 66.00 (62.60)\n",
      "Generation # 210. Train Loss: 1.00. Train Acc (Test Acc): 68.00 (57.60)\n",
      "Generation # 215. Train Loss: 1.05. Train Acc (Test Acc): 63.00 (61.80)\n",
      "Generation # 220. Train Loss: 1.27. Train Acc (Test Acc): 57.00 (66.40)\n",
      "Generation # 225. Train Loss: 0.97. Train Acc (Test Acc): 72.00 (64.00)\n",
      "Generation # 230. Train Loss: 1.19. Train Acc (Test Acc): 58.00 (62.00)\n",
      "Generation # 235. Train Loss: 0.99. Train Acc (Test Acc): 63.00 (62.00)\n",
      "Generation # 240. Train Loss: 1.09. Train Acc (Test Acc): 69.00 (63.20)\n",
      "Generation # 245. Train Loss: 1.09. Train Acc (Test Acc): 66.00 (56.20)\n",
      "Generation # 250. Train Loss: 1.20. Train Acc (Test Acc): 57.00 (62.20)\n",
      "Generation # 255. Train Loss: 1.21. Train Acc (Test Acc): 64.00 (60.20)\n",
      "Generation # 260. Train Loss: 0.99. Train Acc (Test Acc): 63.00 (58.80)\n",
      "Generation # 265. Train Loss: 1.16. Train Acc (Test Acc): 66.00 (63.00)\n",
      "Generation # 270. Train Loss: 1.05. Train Acc (Test Acc): 65.00 (59.60)\n",
      "Generation # 275. Train Loss: 1.14. Train Acc (Test Acc): 67.00 (61.00)\n",
      "Generation # 280. Train Loss: 1.10. Train Acc (Test Acc): 64.00 (64.60)\n",
      "Generation # 285. Train Loss: 1.10. Train Acc (Test Acc): 61.00 (66.60)\n",
      "Generation # 290. Train Loss: 0.96. Train Acc (Test Acc): 67.00 (63.00)\n",
      "Generation # 295. Train Loss: 1.20. Train Acc (Test Acc): 58.00 (57.00)\n",
      "Generation # 300. Train Loss: 1.35. Train Acc (Test Acc): 54.00 (61.20)\n",
      "Generation # 305. Train Loss: 1.15. Train Acc (Test Acc): 66.00 (64.20)\n",
      "Generation # 310. Train Loss: 1.10. Train Acc (Test Acc): 62.00 (64.80)\n",
      "Generation # 315. Train Loss: 0.80. Train Acc (Test Acc): 71.00 (66.80)\n",
      "Generation # 320. Train Loss: 1.06. Train Acc (Test Acc): 67.00 (64.80)\n",
      "Generation # 325. Train Loss: 0.91. Train Acc (Test Acc): 75.00 (69.60)\n",
      "Generation # 330. Train Loss: 0.84. Train Acc (Test Acc): 74.00 (75.20)\n",
      "Generation # 335. Train Loss: 1.00. Train Acc (Test Acc): 68.00 (73.20)\n",
      "Generation # 340. Train Loss: 0.79. Train Acc (Test Acc): 77.00 (74.00)\n",
      "Generation # 345. Train Loss: 0.98. Train Acc (Test Acc): 68.00 (76.40)\n",
      "Generation # 350. Train Loss: 1.01. Train Acc (Test Acc): 72.00 (74.80)\n",
      "Generation # 355. Train Loss: 0.89. Train Acc (Test Acc): 71.00 (72.80)\n",
      "Generation # 360. Train Loss: 0.93. Train Acc (Test Acc): 80.00 (71.80)\n",
      "Generation # 365. Train Loss: 0.95. Train Acc (Test Acc): 68.00 (74.00)\n",
      "Generation # 370. Train Loss: 0.84. Train Acc (Test Acc): 72.00 (77.60)\n",
      "Generation # 375. Train Loss: 0.96. Train Acc (Test Acc): 71.00 (71.80)\n",
      "Generation # 380. Train Loss: 0.88. Train Acc (Test Acc): 70.00 (72.00)\n",
      "Generation # 385. Train Loss: 0.92. Train Acc (Test Acc): 75.00 (73.20)\n",
      "Generation # 390. Train Loss: 1.05. Train Acc (Test Acc): 62.00 (73.80)\n",
      "Generation # 395. Train Loss: 0.78. Train Acc (Test Acc): 77.00 (72.20)\n",
      "Generation # 400. Train Loss: 0.78. Train Acc (Test Acc): 75.00 (74.20)\n",
      "Generation # 405. Train Loss: 0.79. Train Acc (Test Acc): 75.00 (74.20)\n",
      "Generation # 410. Train Loss: 0.91. Train Acc (Test Acc): 70.00 (72.00)\n",
      "Generation # 415. Train Loss: 0.87. Train Acc (Test Acc): 73.00 (74.20)\n",
      "Generation # 420. Train Loss: 0.82. Train Acc (Test Acc): 77.00 (74.60)\n",
      "Generation # 425. Train Loss: 0.83. Train Acc (Test Acc): 74.00 (77.40)\n",
      "Generation # 430. Train Loss: 0.96. Train Acc (Test Acc): 70.00 (73.40)\n",
      "Generation # 435. Train Loss: 0.89. Train Acc (Test Acc): 78.00 (76.00)\n",
      "Generation # 440. Train Loss: 0.77. Train Acc (Test Acc): 77.00 (74.60)\n",
      "Generation # 445. Train Loss: 0.91. Train Acc (Test Acc): 74.00 (72.80)\n",
      "Generation # 450. Train Loss: 0.80. Train Acc (Test Acc): 78.00 (75.80)\n",
      "Generation # 455. Train Loss: 0.85. Train Acc (Test Acc): 73.00 (73.40)\n",
      "Generation # 460. Train Loss: 1.15. Train Acc (Test Acc): 64.00 (75.80)\n",
      "Generation # 465. Train Loss: 0.74. Train Acc (Test Acc): 78.00 (75.20)\n",
      "Generation # 470. Train Loss: 0.90. Train Acc (Test Acc): 68.00 (73.80)\n",
      "Generation # 475. Train Loss: 0.82. Train Acc (Test Acc): 73.00 (78.00)\n",
      "Generation # 480. Train Loss: 0.89. Train Acc (Test Acc): 74.00 (73.20)\n",
      "Generation # 485. Train Loss: 0.94. Train Acc (Test Acc): 74.00 (75.80)\n",
      "Generation # 490. Train Loss: 1.05. Train Acc (Test Acc): 72.00 (74.40)\n",
      "Generation # 495. Train Loss: 0.93. Train Acc (Test Acc): 75.00 (74.40)\n",
      "Generation # 500. Train Loss: 0.94. Train Acc (Test Acc): 72.00 (74.20)\n"
     ]
    }
   ],
   "source": [
    "train_loss = []\n",
    "train_acc =[]\n",
    "test_acc=[]\n",
    "\n",
    "sess = tf.Session()\n",
    "sess.run(tf.global_variables_initializer())\n",
    "\n",
    "for i in range(generations):\n",
    "    rand_index = np.random.choice(len(train_xdata), size=batch_size)\n",
    "    rand_x = train_xdata[rand_index]\n",
    "    rand_x = np.expand_dims(rand_x, 3)\n",
    "    rand_y = train_labels[rand_index]\n",
    "    train_dict = {x_input: rand_x, y_target:rand_y}\n",
    "    sess.run(train_step, feed_dict=train_dict)\n",
    "    temp_train_loss, temp_train_preds = sess.run([loss, prediction], feed_dict=train_dict)\n",
    "    temp_train_acc = get_accuracy(temp_train_preds, rand_y)\n",
    "    if(i+1)%5 == 0:\n",
    "        eval_index = np.random.choice(len(test_xdata), size= evaluation_size)\n",
    "        eval_x = test_xdata[eval_index]\n",
    "        eval_x = np.expand_dims(eval_x,3)\n",
    "        eval_y = test_labels[eval_index]\n",
    "        test_dict = {eval_input:eval_x, eval_target:eval_y}\n",
    "        test_preds = sess.run(test_prediction, feed_dict=test_dict)\n",
    "        temp_test_acc =get_accuracy(test_preds, eval_y)\n",
    "        \n",
    "        train_loss.append(temp_train_loss)\n",
    "        train_acc.append(temp_train_acc)\n",
    "        test_acc.append(temp_test_acc)\n",
    "        \n",
    "        acc_and_loss =[(i+1), temp_train_loss, temp_train_acc, temp_test_acc]\n",
    "        acc_and_loss = [np.round(x,2) for x in acc_and_loss]\n",
    "        print('Generation # {}. Train Loss: {:.2f}. Train Acc (Test Acc): {:.2f} ({:.2f})'.format(*acc_and_loss)) "
   ]
  },
  {
   "cell_type": "code",
   "execution_count": 17,
   "metadata": {},
   "outputs": [
    {
     "data": {
      "image/png": "[encoded data removed]",
      "text/plain": [
       "<Figure size 432x288 with 6 Axes>"
      ]
     },
     "metadata": {
      "needs_background": "light"
     },
     "output_type": "display_data"
    }
   ],
   "source": [
    "# Plot the 6 of the last batch results: \n",
    "actuals = rand_y[0:6] \n",
    "predictions = np.argmax(temp_train_preds,axis=1)[0:6] \n",
    "images = np.squeeze(rand_x[0:6]) \n",
    "Nrows = 2 \n",
    "Ncols = 3 \n",
    "for i in range(6): \n",
    "    plt.subplot(Nrows, Ncols, i+1) \n",
    "    plt.imshow(np.reshape(images[i], [28,28]), cmap='Greys_r') \n",
    "    plt.title('Actual: ' + str(actuals[i]) + ' Pred: ' + str(predictions[i]), fontsize=10) \n",
    "    frame = plt.gca() \n",
    "    frame.axes.get_xaxis().set_visible(False) \n",
    "    frame.axes.get_yaxis().set_visible(False) "
   ]
  }
 ],
 "metadata": {
  "kernelspec": {
   "display_name": "Python [conda env:root] *",
   "language": "python",
   "name": "conda-root-py"
  },
  "language_info": {
   "codemirror_mode": {
    "name": "ipython",
    "version": 3
   },
   "file_extension": ".py",
   "mimetype": "text/x-python",
   "name": "python",
   "nbconvert_exporter": "python",
   "pygments_lexer": "ipython3",
   "version": "3.6.9"
  }
 },
 "nbformat": 4,
 "nbformat_minor": 2
}
