{
 "cells": [
  {
   "cell_type": "code",
   "execution_count": 1,
   "metadata": {},
   "outputs": [],
   "source": [
    "import numpy as np\n",
    "import tensorflow as tf\n",
    "from tensorflow.examples.tutorials.mnist import input_data\n",
    "import time"
   ]
  },
  {
   "cell_type": "code",
   "execution_count": 2,
   "metadata": {},
   "outputs": [
    {
     "name": "stdout",
     "output_type": "stream",
     "text": [
      "Extracting mnist/train-images-idx3-ubyte.gz\n",
      "Extracting mnist/train-labels-idx1-ubyte.gz\n",
      "Extracting mnist/t10k-images-idx3-ubyte.gz\n",
      "Extracting mnist/t10k-labels-idx1-ubyte.gz\n"
     ]
    }
   ],
   "source": [
    "#1.Import Data(MNIST)\n",
    "mnist = input_data.read_data_sets('mnist', one_hot=True)"
   ]
  },
  {
   "cell_type": "code",
   "execution_count": 3,
   "metadata": {},
   "outputs": [
    {
     "name": "stdout",
     "output_type": "stream",
     "text": [
      "(55000, 10)\n",
      "(10000, 10)\n",
      "(784,)\n"
     ]
    }
   ],
   "source": [
    "print(mnist.train.labels.shape)\n",
    "print(mnist.test.labels.shape)\n",
    "print(mnist.train.images[0].shape)"
   ]
  },
  {
   "cell_type": "code",
   "execution_count": 4,
   "metadata": {},
   "outputs": [],
   "source": [
    "#Placeholder\n",
    "x_data = tf.placeholder(tf.float32,[None,784], name = 'X_placeholder')\n",
    "y_target = tf.placeholder(tf.float32,[None,10], name ='Y_placeholder')"
   ]
  },
  {
   "cell_type": "code",
   "execution_count": 5,
   "metadata": {},
   "outputs": [],
   "source": [
    "#Parameter\n",
    "in_num = 784\n",
    "classes= 10\n",
    "hidden_1 = 256\n",
    "hidden_2 = 256\n",
    "\n",
    "#initialize w / b\n",
    "w = {'h1':tf.Variable(tf.random_normal([in_num, hidden_1]), name='W1'),\n",
    "    'h2':tf.Variable(tf.random_normal([hidden_1,hidden_2]), name='W2'),\n",
    "    'out':tf.Variable(tf.random_normal([hidden_2,classes]),name='W')}\n",
    "\n",
    "b = {\n",
    "    'b1':tf.Variable(tf.random_normal([hidden_1]), name='b1'),\n",
    "    'b2':tf.Variable(tf.random_normal([hidden_2]),name='b2'),\n",
    "    'out':tf.Variable(tf.random_normal([classes]),name='b')\n",
    "}"
   ]
  },
  {
   "cell_type": "code",
   "execution_count": 6,
   "metadata": {},
   "outputs": [],
   "source": [
    "def multilayer_perceptron(x, w, b):\n",
    "    # Hidden1，ReLu\n",
    "    layer_1 = tf.add(tf.matmul(x, w['h1']), b['b1'], name='fc_1')\n",
    "    layer_1 = tf.nn.relu(layer_1, name='relu_1')\n",
    "    # Hidden2，ReLu\n",
    "    layer_2 = tf.add(tf.matmul(layer_1, w['h2']), b['b2'], name='fc_2')\n",
    "    layer_2 = tf.nn.relu(layer_2, name='relu_2')\n",
    "    # 输出层\n",
    "    out_layer = tf.add(tf.matmul(layer_2, w['out']), b['out'], name='fc_3')\n",
    "    return out_layer"
   ]
  },
  {
   "cell_type": "code",
   "execution_count": 7,
   "metadata": {},
   "outputs": [],
   "source": [
    "pred = multilayer_perceptron(x_data, w, b)"
   ]
  },
  {
   "cell_type": "code",
   "execution_count": 8,
   "metadata": {},
   "outputs": [],
   "source": [
    "learning_rate = 0.01\n",
    "loss_all = tf.nn.softmax_cross_entropy_with_logits(logits=pred, labels=y_target, name='cross_entropy_loss')\n",
    "loss = tf.reduce_mean(loss_all, name='avg_loss')\n",
    "optimizer = tf.train.AdamOptimizer(learning_rate).minimize(loss)"
   ]
  },
  {
   "cell_type": "code",
   "execution_count": 9,
   "metadata": {},
   "outputs": [
    {
     "name": "stdout",
     "output_type": "stream",
     "text": [
      "Epoch: 0001 cost= 62.957781597\n",
      "Epoch: 0006 cost= 2.180951942\n",
      "Epoch: 0011 cost= 1.441058417\n",
      "Epoch: 0016 cost= 0.958620226\n",
      "Epoch: 0021 cost= 0.734329941\n",
      "Epoch: 0026 cost= 0.661575954\n",
      "Optimization Finished!\n",
      "Accuracy: 0.9671\n"
     ]
    }
   ],
   "source": [
    "# training times\n",
    "training_epochs = 30\n",
    "#一批数据大小\n",
    "batch_size = 128\n",
    "#信息展示的频度\n",
    "display_step = 5\n",
    "\n",
    "init = tf.global_variables_initializer()\n",
    "\n",
    "with tf.Session() as sess:\n",
    "    sess.run(init)\n",
    "    writer = tf.summary.FileWriter('./graphs/MLP_DNN', sess.graph)\n",
    "\n",
    "    # 训练\n",
    "    for epoch in range(training_epochs):\n",
    "        avg_loss = 0.\n",
    "        total_batch = int(mnist.train.num_examples/batch_size)\n",
    "        # 遍历所有的batches\n",
    "        for i in range(total_batch):\n",
    "            batch_x, batch_y = mnist.train.next_batch(batch_size)\n",
    "            # 使用optimizer进行优化\n",
    "            _, l = sess.run([optimizer, loss], feed_dict={x_data: batch_x, y_target: batch_y})\n",
    "            # 求平均的损失\n",
    "            avg_loss += l / total_batch\n",
    "        # 每一步都展示信息\n",
    "        if epoch % display_step == 0:\n",
    "            print(\"Epoch:\", '%04d' % (epoch+1), \"cost=\", \"{:.9f}\".format(avg_loss))\n",
    "    print(\"Optimization Finished!\")\n",
    "\n",
    "    # 在测试集上评估\n",
    "    correct_prediction = tf.equal(tf.argmax(pred, 1), tf.argmax(y_target, 1))\n",
    "    # 计算准确率\n",
    "    accuracy = tf.reduce_mean(tf.cast(correct_prediction, \"float\"))\n",
    "    print(\"Accuracy:\", accuracy.eval({x_data: mnist.test.images, y_target: mnist.test.labels}))\n",
    "    writer.close()"
   ]
  }
 ],
 "metadata": {
  "kernelspec": {
   "display_name": "Python [conda env:root] *",
   "language": "python",
   "name": "conda-root-py"
  },
  "language_info": {
   "codemirror_mode": {
    "name": "ipython",
    "version": 3
   },
   "file_extension": ".py",
   "mimetype": "text/x-python",
   "name": "python",
   "nbconvert_exporter": "python",
   "pygments_lexer": "ipython3",
   "version": "3.6.9"
  }
 },
 "nbformat": 4,
 "nbformat_minor": 2
}
